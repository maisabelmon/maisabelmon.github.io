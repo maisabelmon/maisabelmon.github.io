{
 "cells": [
  {
   "cell_type": "code",
   "execution_count": 27,
   "id": "f54b7d5e",
   "metadata": {},
   "outputs": [],
   "source": [
    "import pandas as pd\n",
    "import numpy as np\n",
    "import matplotlib.pyplot as plt\n",
    "import seaborn as sns\n",
    "import os\n",
    "from sklearn.linear_model import LinearRegression\n",
    "from sklearn.metrics import mean_squared_error,r2_score\n",
    "from sklearn.preprocessing import MinMaxScaler\n",
    "from sklearn.svm import SVR\n",
    "from sklearn.preprocessing import PolynomialFeatures\n",
    "from sklearn.feature_selection import SelectFromModel\n",
    "from lifelines import KaplanMeierFitter\n",
    "from matplotlib.colors import ListedColormap"
   ]
  },
  {
   "cell_type": "markdown",
   "id": "d1f6b211",
   "metadata": {},
   "source": [
    "### Antecedentes\n",
    "https://ti.arc.nasa.gov/tech/dash/groups/pcoe/prognostic-data-repository/#turbofan\n",
    "\n",
    "The data are provided as a zip-compressed text file with 26 columns of numbers, separated by spaces. Each row is a snapshot of data taken during a single operational cycle, each column is a different variable. The columns correspond to:\n",
    "1)\tunit number\n",
    "\n",
    "2)\ttime, in cycles\n",
    "\n",
    "3)\toperational setting 1\n",
    "\n",
    "4)\toperational setting 2\n",
    "\n",
    "5)\toperational setting 3\n",
    "\n",
    "6)\tsensor measurement  1\n",
    "\n",
    "7)\tsensor measurement  2\n",
    "...\n",
    "26)\tsensor measurement  21"
   ]
  },
  {
   "cell_type": "markdown",
   "id": "57e91646",
   "metadata": {},
   "source": [
    "### Exploración de data"
   ]
  },
  {
   "cell_type": "code",
   "execution_count": 2,
   "id": "66310fc9",
   "metadata": {},
   "outputs": [],
   "source": [
    "tmp_col_names = ['unit_nr', 'time_cycles','op_setting_1', 'op_setting_2', 'op_setting_3']\n",
    "sensor_names = ['s_{}'.format(i) for i in range(1,22)] \n",
    "col_names = tmp_col_names + sensor_names"
   ]
  },
  {
   "cell_type": "code",
   "execution_count": 3,
   "id": "10247898",
   "metadata": {},
   "outputs": [
    {
     "data": {
      "text/plain": [
       "['unit_nr',\n",
       " 'time_cycles',\n",
       " 'op_setting_1',\n",
       " 'op_setting_2',\n",
       " 'op_setting_3',\n",
       " 's_1',\n",
       " 's_2',\n",
       " 's_3',\n",
       " 's_4',\n",
       " 's_5',\n",
       " 's_6',\n",
       " 's_7',\n",
       " 's_8',\n",
       " 's_9',\n",
       " 's_10',\n",
       " 's_11',\n",
       " 's_12',\n",
       " 's_13',\n",
       " 's_14',\n",
       " 's_15',\n",
       " 's_16',\n",
       " 's_17',\n",
       " 's_18',\n",
       " 's_19',\n",
       " 's_20',\n",
       " 's_21']"
      ]
     },
     "execution_count": 3,
     "metadata": {},
     "output_type": "execute_result"
    }
   ],
   "source": [
    "col_names"
   ]
  },
  {
   "cell_type": "code",
   "execution_count": 4,
   "id": "79110b07",
   "metadata": {},
   "outputs": [],
   "source": [
    "current_path = os.getcwd()\n",
    "train = pd.read_csv((current_path+'/train_FD001.txt'), sep='\\s+', header=None, names=col_names)\n",
    "test = pd.read_csv((current_path+'/test_FD001.txt'), sep='\\s+', header=None, names=col_names)\n",
    "y_test = pd.read_csv((current_path+'/RUL_FD001.txt'), sep='\\s+', header=None, names=['RUL'])"
   ]
  },
  {
   "cell_type": "code",
   "execution_count": 6,
   "id": "6fb0bf77",
   "metadata": {},
   "outputs": [
    {
     "data": {
      "text/html": [
       "<div>\n",
       "<style scoped>\n",
       "    .dataframe tbody tr th:only-of-type {\n",
       "        vertical-align: middle;\n",
       "    }\n",
       "\n",
       "    .dataframe tbody tr th {\n",
       "        vertical-align: top;\n",
       "    }\n",
       "\n",
       "    .dataframe thead th {\n",
       "        text-align: right;\n",
       "    }\n",
       "</style>\n",
       "<table border=\"1\" class=\"dataframe\">\n",
       "  <thead>\n",
       "    <tr style=\"text-align: right;\">\n",
       "      <th></th>\n",
       "      <th>unit_nr</th>\n",
       "      <th>time_cycles</th>\n",
       "      <th>op_setting_1</th>\n",
       "      <th>op_setting_2</th>\n",
       "      <th>op_setting_3</th>\n",
       "      <th>s_1</th>\n",
       "      <th>s_2</th>\n",
       "      <th>s_3</th>\n",
       "      <th>s_4</th>\n",
       "      <th>s_5</th>\n",
       "      <th>...</th>\n",
       "      <th>s_12</th>\n",
       "      <th>s_13</th>\n",
       "      <th>s_14</th>\n",
       "      <th>s_15</th>\n",
       "      <th>s_16</th>\n",
       "      <th>s_17</th>\n",
       "      <th>s_18</th>\n",
       "      <th>s_19</th>\n",
       "      <th>s_20</th>\n",
       "      <th>s_21</th>\n",
       "    </tr>\n",
       "  </thead>\n",
       "  <tbody>\n",
       "    <tr>\n",
       "      <th>0</th>\n",
       "      <td>1</td>\n",
       "      <td>1</td>\n",
       "      <td>-0.0007</td>\n",
       "      <td>-0.0004</td>\n",
       "      <td>100.0</td>\n",
       "      <td>518.67</td>\n",
       "      <td>641.82</td>\n",
       "      <td>1589.70</td>\n",
       "      <td>1400.60</td>\n",
       "      <td>14.62</td>\n",
       "      <td>...</td>\n",
       "      <td>521.66</td>\n",
       "      <td>2388.02</td>\n",
       "      <td>8138.62</td>\n",
       "      <td>8.4195</td>\n",
       "      <td>0.03</td>\n",
       "      <td>392</td>\n",
       "      <td>2388</td>\n",
       "      <td>100.0</td>\n",
       "      <td>39.06</td>\n",
       "      <td>23.4190</td>\n",
       "    </tr>\n",
       "    <tr>\n",
       "      <th>1</th>\n",
       "      <td>1</td>\n",
       "      <td>2</td>\n",
       "      <td>0.0019</td>\n",
       "      <td>-0.0003</td>\n",
       "      <td>100.0</td>\n",
       "      <td>518.67</td>\n",
       "      <td>642.15</td>\n",
       "      <td>1591.82</td>\n",
       "      <td>1403.14</td>\n",
       "      <td>14.62</td>\n",
       "      <td>...</td>\n",
       "      <td>522.28</td>\n",
       "      <td>2388.07</td>\n",
       "      <td>8131.49</td>\n",
       "      <td>8.4318</td>\n",
       "      <td>0.03</td>\n",
       "      <td>392</td>\n",
       "      <td>2388</td>\n",
       "      <td>100.0</td>\n",
       "      <td>39.00</td>\n",
       "      <td>23.4236</td>\n",
       "    </tr>\n",
       "    <tr>\n",
       "      <th>2</th>\n",
       "      <td>1</td>\n",
       "      <td>3</td>\n",
       "      <td>-0.0043</td>\n",
       "      <td>0.0003</td>\n",
       "      <td>100.0</td>\n",
       "      <td>518.67</td>\n",
       "      <td>642.35</td>\n",
       "      <td>1587.99</td>\n",
       "      <td>1404.20</td>\n",
       "      <td>14.62</td>\n",
       "      <td>...</td>\n",
       "      <td>522.42</td>\n",
       "      <td>2388.03</td>\n",
       "      <td>8133.23</td>\n",
       "      <td>8.4178</td>\n",
       "      <td>0.03</td>\n",
       "      <td>390</td>\n",
       "      <td>2388</td>\n",
       "      <td>100.0</td>\n",
       "      <td>38.95</td>\n",
       "      <td>23.3442</td>\n",
       "    </tr>\n",
       "    <tr>\n",
       "      <th>3</th>\n",
       "      <td>1</td>\n",
       "      <td>4</td>\n",
       "      <td>0.0007</td>\n",
       "      <td>0.0000</td>\n",
       "      <td>100.0</td>\n",
       "      <td>518.67</td>\n",
       "      <td>642.35</td>\n",
       "      <td>1582.79</td>\n",
       "      <td>1401.87</td>\n",
       "      <td>14.62</td>\n",
       "      <td>...</td>\n",
       "      <td>522.86</td>\n",
       "      <td>2388.08</td>\n",
       "      <td>8133.83</td>\n",
       "      <td>8.3682</td>\n",
       "      <td>0.03</td>\n",
       "      <td>392</td>\n",
       "      <td>2388</td>\n",
       "      <td>100.0</td>\n",
       "      <td>38.88</td>\n",
       "      <td>23.3739</td>\n",
       "    </tr>\n",
       "    <tr>\n",
       "      <th>4</th>\n",
       "      <td>1</td>\n",
       "      <td>5</td>\n",
       "      <td>-0.0019</td>\n",
       "      <td>-0.0002</td>\n",
       "      <td>100.0</td>\n",
       "      <td>518.67</td>\n",
       "      <td>642.37</td>\n",
       "      <td>1582.85</td>\n",
       "      <td>1406.22</td>\n",
       "      <td>14.62</td>\n",
       "      <td>...</td>\n",
       "      <td>522.19</td>\n",
       "      <td>2388.04</td>\n",
       "      <td>8133.80</td>\n",
       "      <td>8.4294</td>\n",
       "      <td>0.03</td>\n",
       "      <td>393</td>\n",
       "      <td>2388</td>\n",
       "      <td>100.0</td>\n",
       "      <td>38.90</td>\n",
       "      <td>23.4044</td>\n",
       "    </tr>\n",
       "  </tbody>\n",
       "</table>\n",
       "<p>5 rows × 26 columns</p>\n",
       "</div>"
      ],
      "text/plain": [
       "   unit_nr  time_cycles  op_setting_1  op_setting_2  op_setting_3     s_1  \\\n",
       "0        1            1       -0.0007       -0.0004         100.0  518.67   \n",
       "1        1            2        0.0019       -0.0003         100.0  518.67   \n",
       "2        1            3       -0.0043        0.0003         100.0  518.67   \n",
       "3        1            4        0.0007        0.0000         100.0  518.67   \n",
       "4        1            5       -0.0019       -0.0002         100.0  518.67   \n",
       "\n",
       "      s_2      s_3      s_4    s_5  ...    s_12     s_13     s_14    s_15  \\\n",
       "0  641.82  1589.70  1400.60  14.62  ...  521.66  2388.02  8138.62  8.4195   \n",
       "1  642.15  1591.82  1403.14  14.62  ...  522.28  2388.07  8131.49  8.4318   \n",
       "2  642.35  1587.99  1404.20  14.62  ...  522.42  2388.03  8133.23  8.4178   \n",
       "3  642.35  1582.79  1401.87  14.62  ...  522.86  2388.08  8133.83  8.3682   \n",
       "4  642.37  1582.85  1406.22  14.62  ...  522.19  2388.04  8133.80  8.4294   \n",
       "\n",
       "   s_16  s_17  s_18   s_19   s_20     s_21  \n",
       "0  0.03   392  2388  100.0  39.06  23.4190  \n",
       "1  0.03   392  2388  100.0  39.00  23.4236  \n",
       "2  0.03   390  2388  100.0  38.95  23.3442  \n",
       "3  0.03   392  2388  100.0  38.88  23.3739  \n",
       "4  0.03   393  2388  100.0  38.90  23.4044  \n",
       "\n",
       "[5 rows x 26 columns]"
      ]
     },
     "execution_count": 6,
     "metadata": {},
     "output_type": "execute_result"
    }
   ],
   "source": [
    "train.head()"
   ]
  },
  {
   "cell_type": "code",
   "execution_count": 7,
   "id": "134cd36d",
   "metadata": {},
   "outputs": [
    {
     "data": {
      "text/html": [
       "<div>\n",
       "<style scoped>\n",
       "    .dataframe tbody tr th:only-of-type {\n",
       "        vertical-align: middle;\n",
       "    }\n",
       "\n",
       "    .dataframe tbody tr th {\n",
       "        vertical-align: top;\n",
       "    }\n",
       "\n",
       "    .dataframe thead th {\n",
       "        text-align: right;\n",
       "    }\n",
       "</style>\n",
       "<table border=\"1\" class=\"dataframe\">\n",
       "  <thead>\n",
       "    <tr style=\"text-align: right;\">\n",
       "      <th></th>\n",
       "      <th>unit_nr</th>\n",
       "      <th>time_cycles</th>\n",
       "      <th>op_setting_1</th>\n",
       "      <th>op_setting_2</th>\n",
       "      <th>op_setting_3</th>\n",
       "    </tr>\n",
       "  </thead>\n",
       "  <tbody>\n",
       "    <tr>\n",
       "      <th>count</th>\n",
       "      <td>20631.000000</td>\n",
       "      <td>20631.000000</td>\n",
       "      <td>20631.000000</td>\n",
       "      <td>20631.000000</td>\n",
       "      <td>20631.0</td>\n",
       "    </tr>\n",
       "    <tr>\n",
       "      <th>mean</th>\n",
       "      <td>51.506568</td>\n",
       "      <td>108.807862</td>\n",
       "      <td>-0.000009</td>\n",
       "      <td>0.000002</td>\n",
       "      <td>100.0</td>\n",
       "    </tr>\n",
       "    <tr>\n",
       "      <th>std</th>\n",
       "      <td>29.227633</td>\n",
       "      <td>68.880990</td>\n",
       "      <td>0.002187</td>\n",
       "      <td>0.000293</td>\n",
       "      <td>0.0</td>\n",
       "    </tr>\n",
       "    <tr>\n",
       "      <th>min</th>\n",
       "      <td>1.000000</td>\n",
       "      <td>1.000000</td>\n",
       "      <td>-0.008700</td>\n",
       "      <td>-0.000600</td>\n",
       "      <td>100.0</td>\n",
       "    </tr>\n",
       "    <tr>\n",
       "      <th>25%</th>\n",
       "      <td>26.000000</td>\n",
       "      <td>52.000000</td>\n",
       "      <td>-0.001500</td>\n",
       "      <td>-0.000200</td>\n",
       "      <td>100.0</td>\n",
       "    </tr>\n",
       "    <tr>\n",
       "      <th>50%</th>\n",
       "      <td>52.000000</td>\n",
       "      <td>104.000000</td>\n",
       "      <td>0.000000</td>\n",
       "      <td>0.000000</td>\n",
       "      <td>100.0</td>\n",
       "    </tr>\n",
       "    <tr>\n",
       "      <th>75%</th>\n",
       "      <td>77.000000</td>\n",
       "      <td>156.000000</td>\n",
       "      <td>0.001500</td>\n",
       "      <td>0.000300</td>\n",
       "      <td>100.0</td>\n",
       "    </tr>\n",
       "    <tr>\n",
       "      <th>max</th>\n",
       "      <td>100.000000</td>\n",
       "      <td>362.000000</td>\n",
       "      <td>0.008700</td>\n",
       "      <td>0.000600</td>\n",
       "      <td>100.0</td>\n",
       "    </tr>\n",
       "  </tbody>\n",
       "</table>\n",
       "</div>"
      ],
      "text/plain": [
       "            unit_nr   time_cycles  op_setting_1  op_setting_2  op_setting_3\n",
       "count  20631.000000  20631.000000  20631.000000  20631.000000       20631.0\n",
       "mean      51.506568    108.807862     -0.000009      0.000002         100.0\n",
       "std       29.227633     68.880990      0.002187      0.000293           0.0\n",
       "min        1.000000      1.000000     -0.008700     -0.000600         100.0\n",
       "25%       26.000000     52.000000     -0.001500     -0.000200         100.0\n",
       "50%       52.000000    104.000000      0.000000      0.000000         100.0\n",
       "75%       77.000000    156.000000      0.001500      0.000300         100.0\n",
       "max      100.000000    362.000000      0.008700      0.000600         100.0"
      ]
     },
     "execution_count": 7,
     "metadata": {},
     "output_type": "execute_result"
    }
   ],
   "source": [
    "train[tmp_col_names].describe()"
   ]
  },
  {
   "cell_type": "markdown",
   "id": "ffcd5eae",
   "metadata": {},
   "source": [
    "Los \"operational settings\" tienden a ser 0 por lo que no serían variables a considerar"
   ]
  },
  {
   "cell_type": "code",
   "execution_count": 8,
   "id": "bcaabf26",
   "metadata": {
    "scrolled": false
   },
   "outputs": [
    {
     "data": {
      "text/html": [
       "<div>\n",
       "<style scoped>\n",
       "    .dataframe tbody tr th:only-of-type {\n",
       "        vertical-align: middle;\n",
       "    }\n",
       "\n",
       "    .dataframe tbody tr th {\n",
       "        vertical-align: top;\n",
       "    }\n",
       "\n",
       "    .dataframe thead th {\n",
       "        text-align: right;\n",
       "    }\n",
       "</style>\n",
       "<table border=\"1\" class=\"dataframe\">\n",
       "  <thead>\n",
       "    <tr style=\"text-align: right;\">\n",
       "      <th></th>\n",
       "      <th>count</th>\n",
       "      <th>mean</th>\n",
       "      <th>std</th>\n",
       "      <th>min</th>\n",
       "      <th>25%</th>\n",
       "      <th>50%</th>\n",
       "      <th>75%</th>\n",
       "      <th>max</th>\n",
       "    </tr>\n",
       "  </thead>\n",
       "  <tbody>\n",
       "    <tr>\n",
       "      <th>s_1</th>\n",
       "      <td>20631.0</td>\n",
       "      <td>518.670000</td>\n",
       "      <td>0.000000e+00</td>\n",
       "      <td>518.6700</td>\n",
       "      <td>518.6700</td>\n",
       "      <td>518.6700</td>\n",
       "      <td>518.6700</td>\n",
       "      <td>518.6700</td>\n",
       "    </tr>\n",
       "    <tr>\n",
       "      <th>s_2</th>\n",
       "      <td>20631.0</td>\n",
       "      <td>642.680934</td>\n",
       "      <td>5.000533e-01</td>\n",
       "      <td>641.2100</td>\n",
       "      <td>642.3250</td>\n",
       "      <td>642.6400</td>\n",
       "      <td>643.0000</td>\n",
       "      <td>644.5300</td>\n",
       "    </tr>\n",
       "    <tr>\n",
       "      <th>s_3</th>\n",
       "      <td>20631.0</td>\n",
       "      <td>1590.523119</td>\n",
       "      <td>6.131150e+00</td>\n",
       "      <td>1571.0400</td>\n",
       "      <td>1586.2600</td>\n",
       "      <td>1590.1000</td>\n",
       "      <td>1594.3800</td>\n",
       "      <td>1616.9100</td>\n",
       "    </tr>\n",
       "    <tr>\n",
       "      <th>s_4</th>\n",
       "      <td>20631.0</td>\n",
       "      <td>1408.933782</td>\n",
       "      <td>9.000605e+00</td>\n",
       "      <td>1382.2500</td>\n",
       "      <td>1402.3600</td>\n",
       "      <td>1408.0400</td>\n",
       "      <td>1414.5550</td>\n",
       "      <td>1441.4900</td>\n",
       "    </tr>\n",
       "    <tr>\n",
       "      <th>s_5</th>\n",
       "      <td>20631.0</td>\n",
       "      <td>14.620000</td>\n",
       "      <td>1.776400e-15</td>\n",
       "      <td>14.6200</td>\n",
       "      <td>14.6200</td>\n",
       "      <td>14.6200</td>\n",
       "      <td>14.6200</td>\n",
       "      <td>14.6200</td>\n",
       "    </tr>\n",
       "    <tr>\n",
       "      <th>s_6</th>\n",
       "      <td>20631.0</td>\n",
       "      <td>21.609803</td>\n",
       "      <td>1.388985e-03</td>\n",
       "      <td>21.6000</td>\n",
       "      <td>21.6100</td>\n",
       "      <td>21.6100</td>\n",
       "      <td>21.6100</td>\n",
       "      <td>21.6100</td>\n",
       "    </tr>\n",
       "    <tr>\n",
       "      <th>s_7</th>\n",
       "      <td>20631.0</td>\n",
       "      <td>553.367711</td>\n",
       "      <td>8.850923e-01</td>\n",
       "      <td>549.8500</td>\n",
       "      <td>552.8100</td>\n",
       "      <td>553.4400</td>\n",
       "      <td>554.0100</td>\n",
       "      <td>556.0600</td>\n",
       "    </tr>\n",
       "    <tr>\n",
       "      <th>s_8</th>\n",
       "      <td>20631.0</td>\n",
       "      <td>2388.096652</td>\n",
       "      <td>7.098548e-02</td>\n",
       "      <td>2387.9000</td>\n",
       "      <td>2388.0500</td>\n",
       "      <td>2388.0900</td>\n",
       "      <td>2388.1400</td>\n",
       "      <td>2388.5600</td>\n",
       "    </tr>\n",
       "    <tr>\n",
       "      <th>s_9</th>\n",
       "      <td>20631.0</td>\n",
       "      <td>9065.242941</td>\n",
       "      <td>2.208288e+01</td>\n",
       "      <td>9021.7300</td>\n",
       "      <td>9053.1000</td>\n",
       "      <td>9060.6600</td>\n",
       "      <td>9069.4200</td>\n",
       "      <td>9244.5900</td>\n",
       "    </tr>\n",
       "    <tr>\n",
       "      <th>s_10</th>\n",
       "      <td>20631.0</td>\n",
       "      <td>1.300000</td>\n",
       "      <td>0.000000e+00</td>\n",
       "      <td>1.3000</td>\n",
       "      <td>1.3000</td>\n",
       "      <td>1.3000</td>\n",
       "      <td>1.3000</td>\n",
       "      <td>1.3000</td>\n",
       "    </tr>\n",
       "    <tr>\n",
       "      <th>s_11</th>\n",
       "      <td>20631.0</td>\n",
       "      <td>47.541168</td>\n",
       "      <td>2.670874e-01</td>\n",
       "      <td>46.8500</td>\n",
       "      <td>47.3500</td>\n",
       "      <td>47.5100</td>\n",
       "      <td>47.7000</td>\n",
       "      <td>48.5300</td>\n",
       "    </tr>\n",
       "    <tr>\n",
       "      <th>s_12</th>\n",
       "      <td>20631.0</td>\n",
       "      <td>521.413470</td>\n",
       "      <td>7.375534e-01</td>\n",
       "      <td>518.6900</td>\n",
       "      <td>520.9600</td>\n",
       "      <td>521.4800</td>\n",
       "      <td>521.9500</td>\n",
       "      <td>523.3800</td>\n",
       "    </tr>\n",
       "    <tr>\n",
       "      <th>s_13</th>\n",
       "      <td>20631.0</td>\n",
       "      <td>2388.096152</td>\n",
       "      <td>7.191892e-02</td>\n",
       "      <td>2387.8800</td>\n",
       "      <td>2388.0400</td>\n",
       "      <td>2388.0900</td>\n",
       "      <td>2388.1400</td>\n",
       "      <td>2388.5600</td>\n",
       "    </tr>\n",
       "    <tr>\n",
       "      <th>s_14</th>\n",
       "      <td>20631.0</td>\n",
       "      <td>8143.752722</td>\n",
       "      <td>1.907618e+01</td>\n",
       "      <td>8099.9400</td>\n",
       "      <td>8133.2450</td>\n",
       "      <td>8140.5400</td>\n",
       "      <td>8148.3100</td>\n",
       "      <td>8293.7200</td>\n",
       "    </tr>\n",
       "    <tr>\n",
       "      <th>s_15</th>\n",
       "      <td>20631.0</td>\n",
       "      <td>8.442146</td>\n",
       "      <td>3.750504e-02</td>\n",
       "      <td>8.3249</td>\n",
       "      <td>8.4149</td>\n",
       "      <td>8.4389</td>\n",
       "      <td>8.4656</td>\n",
       "      <td>8.5848</td>\n",
       "    </tr>\n",
       "    <tr>\n",
       "      <th>s_16</th>\n",
       "      <td>20631.0</td>\n",
       "      <td>0.030000</td>\n",
       "      <td>1.387812e-17</td>\n",
       "      <td>0.0300</td>\n",
       "      <td>0.0300</td>\n",
       "      <td>0.0300</td>\n",
       "      <td>0.0300</td>\n",
       "      <td>0.0300</td>\n",
       "    </tr>\n",
       "    <tr>\n",
       "      <th>s_17</th>\n",
       "      <td>20631.0</td>\n",
       "      <td>393.210654</td>\n",
       "      <td>1.548763e+00</td>\n",
       "      <td>388.0000</td>\n",
       "      <td>392.0000</td>\n",
       "      <td>393.0000</td>\n",
       "      <td>394.0000</td>\n",
       "      <td>400.0000</td>\n",
       "    </tr>\n",
       "    <tr>\n",
       "      <th>s_18</th>\n",
       "      <td>20631.0</td>\n",
       "      <td>2388.000000</td>\n",
       "      <td>0.000000e+00</td>\n",
       "      <td>2388.0000</td>\n",
       "      <td>2388.0000</td>\n",
       "      <td>2388.0000</td>\n",
       "      <td>2388.0000</td>\n",
       "      <td>2388.0000</td>\n",
       "    </tr>\n",
       "    <tr>\n",
       "      <th>s_19</th>\n",
       "      <td>20631.0</td>\n",
       "      <td>100.000000</td>\n",
       "      <td>0.000000e+00</td>\n",
       "      <td>100.0000</td>\n",
       "      <td>100.0000</td>\n",
       "      <td>100.0000</td>\n",
       "      <td>100.0000</td>\n",
       "      <td>100.0000</td>\n",
       "    </tr>\n",
       "    <tr>\n",
       "      <th>s_20</th>\n",
       "      <td>20631.0</td>\n",
       "      <td>38.816271</td>\n",
       "      <td>1.807464e-01</td>\n",
       "      <td>38.1400</td>\n",
       "      <td>38.7000</td>\n",
       "      <td>38.8300</td>\n",
       "      <td>38.9500</td>\n",
       "      <td>39.4300</td>\n",
       "    </tr>\n",
       "    <tr>\n",
       "      <th>s_21</th>\n",
       "      <td>20631.0</td>\n",
       "      <td>23.289705</td>\n",
       "      <td>1.082509e-01</td>\n",
       "      <td>22.8942</td>\n",
       "      <td>23.2218</td>\n",
       "      <td>23.2979</td>\n",
       "      <td>23.3668</td>\n",
       "      <td>23.6184</td>\n",
       "    </tr>\n",
       "  </tbody>\n",
       "</table>\n",
       "</div>"
      ],
      "text/plain": [
       "        count         mean           std        min        25%        50%  \\\n",
       "s_1   20631.0   518.670000  0.000000e+00   518.6700   518.6700   518.6700   \n",
       "s_2   20631.0   642.680934  5.000533e-01   641.2100   642.3250   642.6400   \n",
       "s_3   20631.0  1590.523119  6.131150e+00  1571.0400  1586.2600  1590.1000   \n",
       "s_4   20631.0  1408.933782  9.000605e+00  1382.2500  1402.3600  1408.0400   \n",
       "s_5   20631.0    14.620000  1.776400e-15    14.6200    14.6200    14.6200   \n",
       "s_6   20631.0    21.609803  1.388985e-03    21.6000    21.6100    21.6100   \n",
       "s_7   20631.0   553.367711  8.850923e-01   549.8500   552.8100   553.4400   \n",
       "s_8   20631.0  2388.096652  7.098548e-02  2387.9000  2388.0500  2388.0900   \n",
       "s_9   20631.0  9065.242941  2.208288e+01  9021.7300  9053.1000  9060.6600   \n",
       "s_10  20631.0     1.300000  0.000000e+00     1.3000     1.3000     1.3000   \n",
       "s_11  20631.0    47.541168  2.670874e-01    46.8500    47.3500    47.5100   \n",
       "s_12  20631.0   521.413470  7.375534e-01   518.6900   520.9600   521.4800   \n",
       "s_13  20631.0  2388.096152  7.191892e-02  2387.8800  2388.0400  2388.0900   \n",
       "s_14  20631.0  8143.752722  1.907618e+01  8099.9400  8133.2450  8140.5400   \n",
       "s_15  20631.0     8.442146  3.750504e-02     8.3249     8.4149     8.4389   \n",
       "s_16  20631.0     0.030000  1.387812e-17     0.0300     0.0300     0.0300   \n",
       "s_17  20631.0   393.210654  1.548763e+00   388.0000   392.0000   393.0000   \n",
       "s_18  20631.0  2388.000000  0.000000e+00  2388.0000  2388.0000  2388.0000   \n",
       "s_19  20631.0   100.000000  0.000000e+00   100.0000   100.0000   100.0000   \n",
       "s_20  20631.0    38.816271  1.807464e-01    38.1400    38.7000    38.8300   \n",
       "s_21  20631.0    23.289705  1.082509e-01    22.8942    23.2218    23.2979   \n",
       "\n",
       "            75%        max  \n",
       "s_1    518.6700   518.6700  \n",
       "s_2    643.0000   644.5300  \n",
       "s_3   1594.3800  1616.9100  \n",
       "s_4   1414.5550  1441.4900  \n",
       "s_5     14.6200    14.6200  \n",
       "s_6     21.6100    21.6100  \n",
       "s_7    554.0100   556.0600  \n",
       "s_8   2388.1400  2388.5600  \n",
       "s_9   9069.4200  9244.5900  \n",
       "s_10     1.3000     1.3000  \n",
       "s_11    47.7000    48.5300  \n",
       "s_12   521.9500   523.3800  \n",
       "s_13  2388.1400  2388.5600  \n",
       "s_14  8148.3100  8293.7200  \n",
       "s_15     8.4656     8.5848  \n",
       "s_16     0.0300     0.0300  \n",
       "s_17   394.0000   400.0000  \n",
       "s_18  2388.0000  2388.0000  \n",
       "s_19   100.0000   100.0000  \n",
       "s_20    38.9500    39.4300  \n",
       "s_21    23.3668    23.6184  "
      ]
     },
     "execution_count": 8,
     "metadata": {},
     "output_type": "execute_result"
    }
   ],
   "source": [
    "train[sensor_names].describe().transpose()"
   ]
  },
  {
   "cell_type": "markdown",
   "id": "0c12317e",
   "metadata": {},
   "source": [
    "Los sensores 1,10,18 y 19 tienen desv. estándar 0 + min y max iguales --> Revisar \n",
    "\n",
    "Los sensores 5,6 y 16 tienen desv. estándar <> 0 pero min y max iguales --> Revisar"
   ]
  },
  {
   "cell_type": "code",
   "execution_count": 24,
   "id": "cb74febe",
   "metadata": {},
   "outputs": [
    {
     "name": "stdout",
     "output_type": "stream",
     "text": [
      "<class 'pandas.core.frame.DataFrame'>\n",
      "RangeIndex: 20631 entries, 0 to 20630\n",
      "Data columns (total 26 columns):\n",
      " #   Column        Non-Null Count  Dtype  \n",
      "---  ------        --------------  -----  \n",
      " 0   unit_nr       20631 non-null  int64  \n",
      " 1   time_cycles   20631 non-null  int64  \n",
      " 2   op_setting_1  20631 non-null  float64\n",
      " 3   op_setting_2  20631 non-null  float64\n",
      " 4   op_setting_3  20631 non-null  float64\n",
      " 5   s_1           20631 non-null  float64\n",
      " 6   s_2           20631 non-null  float64\n",
      " 7   s_3           20631 non-null  float64\n",
      " 8   s_4           20631 non-null  float64\n",
      " 9   s_5           20631 non-null  float64\n",
      " 10  s_6           20631 non-null  float64\n",
      " 11  s_7           20631 non-null  float64\n",
      " 12  s_8           20631 non-null  float64\n",
      " 13  s_9           20631 non-null  float64\n",
      " 14  s_10          20631 non-null  float64\n",
      " 15  s_11          20631 non-null  float64\n",
      " 16  s_12          20631 non-null  float64\n",
      " 17  s_13          20631 non-null  float64\n",
      " 18  s_14          20631 non-null  float64\n",
      " 19  s_15          20631 non-null  float64\n",
      " 20  s_16          20631 non-null  float64\n",
      " 21  s_17          20631 non-null  int64  \n",
      " 22  s_18          20631 non-null  int64  \n",
      " 23  s_19          20631 non-null  float64\n",
      " 24  s_20          20631 non-null  float64\n",
      " 25  s_21          20631 non-null  float64\n",
      "dtypes: float64(22), int64(4)\n",
      "memory usage: 4.1 MB\n"
     ]
    }
   ],
   "source": [
    "train.info()"
   ]
  },
  {
   "cell_type": "code",
   "execution_count": 22,
   "id": "13b740e7",
   "metadata": {},
   "outputs": [
    {
     "data": {
      "text/html": [
       "<div>\n",
       "<style scoped>\n",
       "    .dataframe tbody tr th:only-of-type {\n",
       "        vertical-align: middle;\n",
       "    }\n",
       "\n",
       "    .dataframe tbody tr th {\n",
       "        vertical-align: top;\n",
       "    }\n",
       "\n",
       "    .dataframe thead th {\n",
       "        text-align: right;\n",
       "    }\n",
       "</style>\n",
       "<table border=\"1\" class=\"dataframe\">\n",
       "  <thead>\n",
       "    <tr style=\"text-align: right;\">\n",
       "      <th></th>\n",
       "      <th>unit_nr</th>\n",
       "      <th>time_cycles</th>\n",
       "      <th>op_setting_1</th>\n",
       "      <th>op_setting_2</th>\n",
       "      <th>op_setting_3</th>\n",
       "      <th>s_1</th>\n",
       "      <th>s_2</th>\n",
       "      <th>s_3</th>\n",
       "      <th>s_4</th>\n",
       "      <th>s_5</th>\n",
       "      <th>...</th>\n",
       "      <th>s_12</th>\n",
       "      <th>s_13</th>\n",
       "      <th>s_14</th>\n",
       "      <th>s_15</th>\n",
       "      <th>s_16</th>\n",
       "      <th>s_17</th>\n",
       "      <th>s_18</th>\n",
       "      <th>s_19</th>\n",
       "      <th>s_20</th>\n",
       "      <th>s_21</th>\n",
       "    </tr>\n",
       "  </thead>\n",
       "  <tbody>\n",
       "    <tr>\n",
       "      <th>0</th>\n",
       "      <td>1</td>\n",
       "      <td>1</td>\n",
       "      <td>0.0023</td>\n",
       "      <td>0.0003</td>\n",
       "      <td>100.0</td>\n",
       "      <td>518.67</td>\n",
       "      <td>643.02</td>\n",
       "      <td>1585.29</td>\n",
       "      <td>1398.21</td>\n",
       "      <td>14.62</td>\n",
       "      <td>...</td>\n",
       "      <td>521.72</td>\n",
       "      <td>2388.03</td>\n",
       "      <td>8125.55</td>\n",
       "      <td>8.4052</td>\n",
       "      <td>0.03</td>\n",
       "      <td>392</td>\n",
       "      <td>2388</td>\n",
       "      <td>100.0</td>\n",
       "      <td>38.86</td>\n",
       "      <td>23.3735</td>\n",
       "    </tr>\n",
       "    <tr>\n",
       "      <th>1</th>\n",
       "      <td>1</td>\n",
       "      <td>2</td>\n",
       "      <td>-0.0027</td>\n",
       "      <td>-0.0003</td>\n",
       "      <td>100.0</td>\n",
       "      <td>518.67</td>\n",
       "      <td>641.71</td>\n",
       "      <td>1588.45</td>\n",
       "      <td>1395.42</td>\n",
       "      <td>14.62</td>\n",
       "      <td>...</td>\n",
       "      <td>522.16</td>\n",
       "      <td>2388.06</td>\n",
       "      <td>8139.62</td>\n",
       "      <td>8.3803</td>\n",
       "      <td>0.03</td>\n",
       "      <td>393</td>\n",
       "      <td>2388</td>\n",
       "      <td>100.0</td>\n",
       "      <td>39.02</td>\n",
       "      <td>23.3916</td>\n",
       "    </tr>\n",
       "    <tr>\n",
       "      <th>2</th>\n",
       "      <td>1</td>\n",
       "      <td>3</td>\n",
       "      <td>0.0003</td>\n",
       "      <td>0.0001</td>\n",
       "      <td>100.0</td>\n",
       "      <td>518.67</td>\n",
       "      <td>642.46</td>\n",
       "      <td>1586.94</td>\n",
       "      <td>1401.34</td>\n",
       "      <td>14.62</td>\n",
       "      <td>...</td>\n",
       "      <td>521.97</td>\n",
       "      <td>2388.03</td>\n",
       "      <td>8130.10</td>\n",
       "      <td>8.4441</td>\n",
       "      <td>0.03</td>\n",
       "      <td>393</td>\n",
       "      <td>2388</td>\n",
       "      <td>100.0</td>\n",
       "      <td>39.08</td>\n",
       "      <td>23.4166</td>\n",
       "    </tr>\n",
       "    <tr>\n",
       "      <th>3</th>\n",
       "      <td>1</td>\n",
       "      <td>4</td>\n",
       "      <td>0.0042</td>\n",
       "      <td>0.0000</td>\n",
       "      <td>100.0</td>\n",
       "      <td>518.67</td>\n",
       "      <td>642.44</td>\n",
       "      <td>1584.12</td>\n",
       "      <td>1406.42</td>\n",
       "      <td>14.62</td>\n",
       "      <td>...</td>\n",
       "      <td>521.38</td>\n",
       "      <td>2388.05</td>\n",
       "      <td>8132.90</td>\n",
       "      <td>8.3917</td>\n",
       "      <td>0.03</td>\n",
       "      <td>391</td>\n",
       "      <td>2388</td>\n",
       "      <td>100.0</td>\n",
       "      <td>39.00</td>\n",
       "      <td>23.3737</td>\n",
       "    </tr>\n",
       "    <tr>\n",
       "      <th>4</th>\n",
       "      <td>1</td>\n",
       "      <td>5</td>\n",
       "      <td>0.0014</td>\n",
       "      <td>0.0000</td>\n",
       "      <td>100.0</td>\n",
       "      <td>518.67</td>\n",
       "      <td>642.51</td>\n",
       "      <td>1587.19</td>\n",
       "      <td>1401.92</td>\n",
       "      <td>14.62</td>\n",
       "      <td>...</td>\n",
       "      <td>522.15</td>\n",
       "      <td>2388.03</td>\n",
       "      <td>8129.54</td>\n",
       "      <td>8.4031</td>\n",
       "      <td>0.03</td>\n",
       "      <td>390</td>\n",
       "      <td>2388</td>\n",
       "      <td>100.0</td>\n",
       "      <td>38.99</td>\n",
       "      <td>23.4130</td>\n",
       "    </tr>\n",
       "  </tbody>\n",
       "</table>\n",
       "<p>5 rows × 26 columns</p>\n",
       "</div>"
      ],
      "text/plain": [
       "   unit_nr  time_cycles  op_setting_1  op_setting_2  op_setting_3     s_1  \\\n",
       "0        1            1        0.0023        0.0003         100.0  518.67   \n",
       "1        1            2       -0.0027       -0.0003         100.0  518.67   \n",
       "2        1            3        0.0003        0.0001         100.0  518.67   \n",
       "3        1            4        0.0042        0.0000         100.0  518.67   \n",
       "4        1            5        0.0014        0.0000         100.0  518.67   \n",
       "\n",
       "      s_2      s_3      s_4    s_5  ...    s_12     s_13     s_14    s_15  \\\n",
       "0  643.02  1585.29  1398.21  14.62  ...  521.72  2388.03  8125.55  8.4052   \n",
       "1  641.71  1588.45  1395.42  14.62  ...  522.16  2388.06  8139.62  8.3803   \n",
       "2  642.46  1586.94  1401.34  14.62  ...  521.97  2388.03  8130.10  8.4441   \n",
       "3  642.44  1584.12  1406.42  14.62  ...  521.38  2388.05  8132.90  8.3917   \n",
       "4  642.51  1587.19  1401.92  14.62  ...  522.15  2388.03  8129.54  8.4031   \n",
       "\n",
       "   s_16  s_17  s_18   s_19   s_20     s_21  \n",
       "0  0.03   392  2388  100.0  38.86  23.3735  \n",
       "1  0.03   393  2388  100.0  39.02  23.3916  \n",
       "2  0.03   393  2388  100.0  39.08  23.4166  \n",
       "3  0.03   391  2388  100.0  39.00  23.3737  \n",
       "4  0.03   390  2388  100.0  38.99  23.4130  \n",
       "\n",
       "[5 rows x 26 columns]"
      ]
     },
     "execution_count": 22,
     "metadata": {},
     "output_type": "execute_result"
    }
   ],
   "source": [
    "test.head()"
   ]
  },
  {
   "cell_type": "code",
   "execution_count": 25,
   "id": "8fb8dcb5",
   "metadata": {},
   "outputs": [
    {
     "name": "stdout",
     "output_type": "stream",
     "text": [
      "<class 'pandas.core.frame.DataFrame'>\n",
      "RangeIndex: 13096 entries, 0 to 13095\n",
      "Data columns (total 26 columns):\n",
      " #   Column        Non-Null Count  Dtype  \n",
      "---  ------        --------------  -----  \n",
      " 0   unit_nr       13096 non-null  int64  \n",
      " 1   time_cycles   13096 non-null  int64  \n",
      " 2   op_setting_1  13096 non-null  float64\n",
      " 3   op_setting_2  13096 non-null  float64\n",
      " 4   op_setting_3  13096 non-null  float64\n",
      " 5   s_1           13096 non-null  float64\n",
      " 6   s_2           13096 non-null  float64\n",
      " 7   s_3           13096 non-null  float64\n",
      " 8   s_4           13096 non-null  float64\n",
      " 9   s_5           13096 non-null  float64\n",
      " 10  s_6           13096 non-null  float64\n",
      " 11  s_7           13096 non-null  float64\n",
      " 12  s_8           13096 non-null  float64\n",
      " 13  s_9           13096 non-null  float64\n",
      " 14  s_10          13096 non-null  float64\n",
      " 15  s_11          13096 non-null  float64\n",
      " 16  s_12          13096 non-null  float64\n",
      " 17  s_13          13096 non-null  float64\n",
      " 18  s_14          13096 non-null  float64\n",
      " 19  s_15          13096 non-null  float64\n",
      " 20  s_16          13096 non-null  float64\n",
      " 21  s_17          13096 non-null  int64  \n",
      " 22  s_18          13096 non-null  int64  \n",
      " 23  s_19          13096 non-null  float64\n",
      " 24  s_20          13096 non-null  float64\n",
      " 25  s_21          13096 non-null  float64\n",
      "dtypes: float64(22), int64(4)\n",
      "memory usage: 2.6 MB\n"
     ]
    }
   ],
   "source": [
    "test.info()"
   ]
  },
  {
   "cell_type": "code",
   "execution_count": 10,
   "id": "94cb8dcc",
   "metadata": {
    "scrolled": false
   },
   "outputs": [
    {
     "data": {
      "text/html": [
       "<div>\n",
       "<style scoped>\n",
       "    .dataframe tbody tr th:only-of-type {\n",
       "        vertical-align: middle;\n",
       "    }\n",
       "\n",
       "    .dataframe tbody tr th {\n",
       "        vertical-align: top;\n",
       "    }\n",
       "\n",
       "    .dataframe thead th {\n",
       "        text-align: right;\n",
       "    }\n",
       "</style>\n",
       "<table border=\"1\" class=\"dataframe\">\n",
       "  <thead>\n",
       "    <tr style=\"text-align: right;\">\n",
       "      <th></th>\n",
       "      <th>RUL</th>\n",
       "    </tr>\n",
       "  </thead>\n",
       "  <tbody>\n",
       "    <tr>\n",
       "      <th>0</th>\n",
       "      <td>112</td>\n",
       "    </tr>\n",
       "    <tr>\n",
       "      <th>1</th>\n",
       "      <td>98</td>\n",
       "    </tr>\n",
       "    <tr>\n",
       "      <th>2</th>\n",
       "      <td>69</td>\n",
       "    </tr>\n",
       "    <tr>\n",
       "      <th>3</th>\n",
       "      <td>82</td>\n",
       "    </tr>\n",
       "    <tr>\n",
       "      <th>4</th>\n",
       "      <td>91</td>\n",
       "    </tr>\n",
       "  </tbody>\n",
       "</table>\n",
       "</div>"
      ],
      "text/plain": [
       "   RUL\n",
       "0  112\n",
       "1   98\n",
       "2   69\n",
       "3   82\n",
       "4   91"
      ]
     },
     "execution_count": 10,
     "metadata": {},
     "output_type": "execute_result"
    }
   ],
   "source": [
    "y_test.head()"
   ]
  },
  {
   "cell_type": "markdown",
   "id": "e39c3731",
   "metadata": {},
   "source": [
    "### Metodología de trabajo\n",
    "\n",
    "Posterior a revisar la data al ser un dataset con pocas filas (21 mil y 13 mil aprox) y pocas columnas (26) se procederá a generar un modelo predictivo que llevara como benchmark el modelamiento utilizando todas las variables y posterior a eso se explorara la mejor combinación de estas. Si fuera un dataset grande con millones de filas y miles de columnas se aplicaría un proceso diferente ya que primero buscaríamos seleccionar variables para crear un benchmark ya que por temas de recursos/tiempo se busca optimizar las variables que generan mayor explicabilidad y posterior a esto, optimizar el modelo."
   ]
  },
  {
   "cell_type": "markdown",
   "id": "69755738",
   "metadata": {},
   "source": [
    "### Generando RUL\n",
    "RUL = tiempo util restante\n",
    "\n",
    "Buscaremos cual es el maximo ciclo de tiempo para ver el límite de tiempo util a nivel de unidad (columna \"max_time_cycle\"); y luego dependiendo en el ciclo que vaya la unidad podremos ver \"cuantos ciclos\" podría quedarle tomando de referencia el máximo descrito anteriormente."
   ]
  },
  {
   "cell_type": "code",
   "execution_count": 5,
   "id": "65eb3c9c",
   "metadata": {},
   "outputs": [],
   "source": [
    "train_copy = train.copy()\n",
    "test_copy = test.copy()\n",
    "y_test_copy = y_test.copy()"
   ]
  },
  {
   "cell_type": "code",
   "execution_count": 6,
   "id": "3030277f",
   "metadata": {
    "scrolled": true
   },
   "outputs": [
    {
     "data": {
      "text/html": [
       "<div>\n",
       "<style scoped>\n",
       "    .dataframe tbody tr th:only-of-type {\n",
       "        vertical-align: middle;\n",
       "    }\n",
       "\n",
       "    .dataframe tbody tr th {\n",
       "        vertical-align: top;\n",
       "    }\n",
       "\n",
       "    .dataframe thead th {\n",
       "        text-align: right;\n",
       "    }\n",
       "</style>\n",
       "<table border=\"1\" class=\"dataframe\">\n",
       "  <thead>\n",
       "    <tr style=\"text-align: right;\">\n",
       "      <th></th>\n",
       "      <th>unit_nr</th>\n",
       "      <th>time_cycles</th>\n",
       "      <th>op_setting_1</th>\n",
       "      <th>op_setting_2</th>\n",
       "      <th>op_setting_3</th>\n",
       "      <th>s_1</th>\n",
       "      <th>s_2</th>\n",
       "      <th>s_3</th>\n",
       "      <th>s_4</th>\n",
       "      <th>s_5</th>\n",
       "      <th>...</th>\n",
       "      <th>s_13</th>\n",
       "      <th>s_14</th>\n",
       "      <th>s_15</th>\n",
       "      <th>s_16</th>\n",
       "      <th>s_17</th>\n",
       "      <th>s_18</th>\n",
       "      <th>s_19</th>\n",
       "      <th>s_20</th>\n",
       "      <th>s_21</th>\n",
       "      <th>RUL</th>\n",
       "    </tr>\n",
       "  </thead>\n",
       "  <tbody>\n",
       "    <tr>\n",
       "      <th>0</th>\n",
       "      <td>1</td>\n",
       "      <td>1</td>\n",
       "      <td>-0.0007</td>\n",
       "      <td>-0.0004</td>\n",
       "      <td>100.0</td>\n",
       "      <td>518.67</td>\n",
       "      <td>641.82</td>\n",
       "      <td>1589.70</td>\n",
       "      <td>1400.60</td>\n",
       "      <td>14.62</td>\n",
       "      <td>...</td>\n",
       "      <td>2388.02</td>\n",
       "      <td>8138.62</td>\n",
       "      <td>8.4195</td>\n",
       "      <td>0.03</td>\n",
       "      <td>392</td>\n",
       "      <td>2388</td>\n",
       "      <td>100.0</td>\n",
       "      <td>39.06</td>\n",
       "      <td>23.4190</td>\n",
       "      <td>191</td>\n",
       "    </tr>\n",
       "    <tr>\n",
       "      <th>1</th>\n",
       "      <td>1</td>\n",
       "      <td>2</td>\n",
       "      <td>0.0019</td>\n",
       "      <td>-0.0003</td>\n",
       "      <td>100.0</td>\n",
       "      <td>518.67</td>\n",
       "      <td>642.15</td>\n",
       "      <td>1591.82</td>\n",
       "      <td>1403.14</td>\n",
       "      <td>14.62</td>\n",
       "      <td>...</td>\n",
       "      <td>2388.07</td>\n",
       "      <td>8131.49</td>\n",
       "      <td>8.4318</td>\n",
       "      <td>0.03</td>\n",
       "      <td>392</td>\n",
       "      <td>2388</td>\n",
       "      <td>100.0</td>\n",
       "      <td>39.00</td>\n",
       "      <td>23.4236</td>\n",
       "      <td>190</td>\n",
       "    </tr>\n",
       "    <tr>\n",
       "      <th>2</th>\n",
       "      <td>1</td>\n",
       "      <td>3</td>\n",
       "      <td>-0.0043</td>\n",
       "      <td>0.0003</td>\n",
       "      <td>100.0</td>\n",
       "      <td>518.67</td>\n",
       "      <td>642.35</td>\n",
       "      <td>1587.99</td>\n",
       "      <td>1404.20</td>\n",
       "      <td>14.62</td>\n",
       "      <td>...</td>\n",
       "      <td>2388.03</td>\n",
       "      <td>8133.23</td>\n",
       "      <td>8.4178</td>\n",
       "      <td>0.03</td>\n",
       "      <td>390</td>\n",
       "      <td>2388</td>\n",
       "      <td>100.0</td>\n",
       "      <td>38.95</td>\n",
       "      <td>23.3442</td>\n",
       "      <td>189</td>\n",
       "    </tr>\n",
       "    <tr>\n",
       "      <th>3</th>\n",
       "      <td>1</td>\n",
       "      <td>4</td>\n",
       "      <td>0.0007</td>\n",
       "      <td>0.0000</td>\n",
       "      <td>100.0</td>\n",
       "      <td>518.67</td>\n",
       "      <td>642.35</td>\n",
       "      <td>1582.79</td>\n",
       "      <td>1401.87</td>\n",
       "      <td>14.62</td>\n",
       "      <td>...</td>\n",
       "      <td>2388.08</td>\n",
       "      <td>8133.83</td>\n",
       "      <td>8.3682</td>\n",
       "      <td>0.03</td>\n",
       "      <td>392</td>\n",
       "      <td>2388</td>\n",
       "      <td>100.0</td>\n",
       "      <td>38.88</td>\n",
       "      <td>23.3739</td>\n",
       "      <td>188</td>\n",
       "    </tr>\n",
       "    <tr>\n",
       "      <th>4</th>\n",
       "      <td>1</td>\n",
       "      <td>5</td>\n",
       "      <td>-0.0019</td>\n",
       "      <td>-0.0002</td>\n",
       "      <td>100.0</td>\n",
       "      <td>518.67</td>\n",
       "      <td>642.37</td>\n",
       "      <td>1582.85</td>\n",
       "      <td>1406.22</td>\n",
       "      <td>14.62</td>\n",
       "      <td>...</td>\n",
       "      <td>2388.04</td>\n",
       "      <td>8133.80</td>\n",
       "      <td>8.4294</td>\n",
       "      <td>0.03</td>\n",
       "      <td>393</td>\n",
       "      <td>2388</td>\n",
       "      <td>100.0</td>\n",
       "      <td>38.90</td>\n",
       "      <td>23.4044</td>\n",
       "      <td>187</td>\n",
       "    </tr>\n",
       "  </tbody>\n",
       "</table>\n",
       "<p>5 rows × 27 columns</p>\n",
       "</div>"
      ],
      "text/plain": [
       "   unit_nr  time_cycles  op_setting_1  op_setting_2  op_setting_3     s_1  \\\n",
       "0        1            1       -0.0007       -0.0004         100.0  518.67   \n",
       "1        1            2        0.0019       -0.0003         100.0  518.67   \n",
       "2        1            3       -0.0043        0.0003         100.0  518.67   \n",
       "3        1            4        0.0007        0.0000         100.0  518.67   \n",
       "4        1            5       -0.0019       -0.0002         100.0  518.67   \n",
       "\n",
       "      s_2      s_3      s_4    s_5  ...     s_13     s_14    s_15  s_16  s_17  \\\n",
       "0  641.82  1589.70  1400.60  14.62  ...  2388.02  8138.62  8.4195  0.03   392   \n",
       "1  642.15  1591.82  1403.14  14.62  ...  2388.07  8131.49  8.4318  0.03   392   \n",
       "2  642.35  1587.99  1404.20  14.62  ...  2388.03  8133.23  8.4178  0.03   390   \n",
       "3  642.35  1582.79  1401.87  14.62  ...  2388.08  8133.83  8.3682  0.03   392   \n",
       "4  642.37  1582.85  1406.22  14.62  ...  2388.04  8133.80  8.4294  0.03   393   \n",
       "\n",
       "   s_18   s_19   s_20     s_21  RUL  \n",
       "0  2388  100.0  39.06  23.4190  191  \n",
       "1  2388  100.0  39.00  23.4236  190  \n",
       "2  2388  100.0  38.95  23.3442  189  \n",
       "3  2388  100.0  38.88  23.3739  188  \n",
       "4  2388  100.0  38.90  23.4044  187  \n",
       "\n",
       "[5 rows x 27 columns]"
      ]
     },
     "execution_count": 6,
     "metadata": {},
     "output_type": "execute_result"
    }
   ],
   "source": [
    "max_time_cycle = train_copy.groupby(by=\"unit_nr\")[\"time_cycles\"].max()\n",
    "train_copy = pd.merge(train_copy,max_time_cycle, on=\"unit_nr\")\n",
    "train_copy = train_copy.rename(columns={'time_cycles_x':'time_cycles','time_cycles_y':'max_time_cycle'})\n",
    "train_copy['RUL'] = train_copy['max_time_cycle'] - train_copy['time_cycles']\n",
    "train_copy = train_copy.drop('max_time_cycle', axis=1)\n",
    "train_copy.head()"
   ]
  },
  {
   "cell_type": "code",
   "execution_count": 13,
   "id": "949ad81b",
   "metadata": {},
   "outputs": [
    {
     "data": {
      "text/plain": [
       "count    20631.000000\n",
       "mean       107.807862\n",
       "std         68.880990\n",
       "min          0.000000\n",
       "25%         51.000000\n",
       "50%        103.000000\n",
       "75%        155.000000\n",
       "max        361.000000\n",
       "Name: RUL, dtype: float64"
      ]
     },
     "execution_count": 13,
     "metadata": {},
     "output_type": "execute_result"
    }
   ],
   "source": [
    "train_copy['RUL'].describe()"
   ]
  },
  {
   "cell_type": "markdown",
   "id": "6da4a200",
   "metadata": {},
   "source": [
    "Podemos observar que existe un minimo de 0 tiempo util restante, y un maximo de hasta 361 ciclos"
   ]
  },
  {
   "cell_type": "code",
   "execution_count": 301,
   "id": "9af0a67e",
   "metadata": {
    "scrolled": false
   },
   "outputs": [
    {
     "data": {
      "image/png": "[encoded data removed]",
      "text/plain": [
       "<Figure size 720x432 with 1 Axes>"
      ]
     },
     "metadata": {
      "needs_background": "light"
     },
     "output_type": "display_data"
    }
   ],
   "source": [
    "train_copy_max_rul = train_copy[['unit_nr','RUL']].groupby('unit_nr').max().reset_index()\n",
    "train_copy_max_rul['RUL'].hist(bins=5, figsize=(10,6))\n",
    "plt.xlabel('RUL')\n",
    "plt.ylabel('frequency')\n",
    "plt.show()"
   ]
  },
  {
   "cell_type": "markdown",
   "id": "2f8cf60f",
   "metadata": {},
   "source": [
    "Esto muestra que la mayoría de las unidades se concentra en 200 ciclos de tiempo util restante (RUL). "
   ]
  },
  {
   "cell_type": "code",
   "execution_count": 565,
   "id": "e96205ea",
   "metadata": {},
   "outputs": [
    {
     "data": {
      "text/plain": [
       "<AxesSubplot:xlabel='time_cycles'>"
      ]
     },
     "execution_count": 565,
     "metadata": {},
     "output_type": "execute_result"
    },
    {
     "data": {
      "image/png": "[encoded data removed]",
      "text/plain": [
       "<Figure size 432x288 with 1 Axes>"
      ]
     },
     "metadata": {
      "needs_background": "light"
     },
     "output_type": "display_data"
    }
   ],
   "source": [
    "sns.boxplot(x=train_copy['time_cycles'])"
   ]
  },
  {
   "cell_type": "markdown",
   "id": "f2398f1d",
   "metadata": {},
   "source": [
    "El Q1 (0.25 Percentil) esta en los 50 ciclos, y el Q3 (0.75 Percentile) en los 150 ciclos. Con una Mediana de 100 ciclos."
   ]
  },
  {
   "cell_type": "markdown",
   "id": "2c9c1dda",
   "metadata": {},
   "source": [
    "### Benchmark + Selección Variables\n",
    "KPIS para elección de modelo: \n",
    "\n",
    "    1) RMSE (para ver precisión) \n",
    "\n",
    "    2) R2 (para ver explicabilidad) \n",
    "\n",
    "Pasos a seguir\n",
    "(La predicción se modelara con regresión lineal y SVR para ver diferencias de performance):\n",
    "\n",
    "    a) Tomaremos como benchmark una regresión lineal con todas las variables (sensores)\n",
    "    b) Se analizarán sensores de baja o nula variabilidad en los datos para ver si influeyen\n",
    "    c) Se re-planteara el benchmark con SVR para ver si performa mejor que la regresión lineal\n",
    "    d) Posterior a esto, iremos analizando las variables para seleccionar la mejor combinación a determinar en base a mejorar el benchmark del punto c)"
   ]
  },
  {
   "cell_type": "markdown",
   "id": "12be725a",
   "metadata": {},
   "source": [
    "### KPI's"
   ]
  },
  {
   "cell_type": "code",
   "execution_count": 7,
   "id": "1ad6cfca",
   "metadata": {},
   "outputs": [],
   "source": [
    "#KPIS\n",
    "def rmse(y,yhat):\n",
    "    rmse = np.sqrt(mean_squared_error(y,yhat))\n",
    "    print(\"rmse: \",rmse)\n",
    "def r2(y,yhat):\n",
    "    r2 = r2_score(y,yhat)\n",
    "    print(\"R2: \", r2)"
   ]
  },
  {
   "cell_type": "markdown",
   "id": "32334dcc",
   "metadata": {},
   "source": [
    "### Benchmark"
   ]
  },
  {
   "cell_type": "code",
   "execution_count": 567,
   "id": "fee95a4e",
   "metadata": {},
   "outputs": [],
   "source": [
    "#x_train tendra las variables que usaremos para predecir \n",
    "#y_train es nuestra variable a predecir\n",
    "x_train = train_copy[sensor_names+['RUL']].copy()\n",
    "y_train = x_train.pop('RUL')"
   ]
  },
  {
   "cell_type": "code",
   "execution_count": 522,
   "id": "f29ab318",
   "metadata": {},
   "outputs": [
    {
     "data": {
      "text/html": [
       "<div>\n",
       "<style scoped>\n",
       "    .dataframe tbody tr th:only-of-type {\n",
       "        vertical-align: middle;\n",
       "    }\n",
       "\n",
       "    .dataframe tbody tr th {\n",
       "        vertical-align: top;\n",
       "    }\n",
       "\n",
       "    .dataframe thead th {\n",
       "        text-align: right;\n",
       "    }\n",
       "</style>\n",
       "<table border=\"1\" class=\"dataframe\">\n",
       "  <thead>\n",
       "    <tr style=\"text-align: right;\">\n",
       "      <th></th>\n",
       "      <th>s_1</th>\n",
       "      <th>s_2</th>\n",
       "      <th>s_3</th>\n",
       "      <th>s_4</th>\n",
       "      <th>s_5</th>\n",
       "      <th>s_6</th>\n",
       "      <th>s_7</th>\n",
       "      <th>s_8</th>\n",
       "      <th>s_9</th>\n",
       "      <th>s_10</th>\n",
       "      <th>...</th>\n",
       "      <th>s_12</th>\n",
       "      <th>s_13</th>\n",
       "      <th>s_14</th>\n",
       "      <th>s_15</th>\n",
       "      <th>s_16</th>\n",
       "      <th>s_17</th>\n",
       "      <th>s_18</th>\n",
       "      <th>s_19</th>\n",
       "      <th>s_20</th>\n",
       "      <th>s_21</th>\n",
       "    </tr>\n",
       "  </thead>\n",
       "  <tbody>\n",
       "    <tr>\n",
       "      <th>0</th>\n",
       "      <td>518.67</td>\n",
       "      <td>641.82</td>\n",
       "      <td>1589.70</td>\n",
       "      <td>1400.60</td>\n",
       "      <td>14.62</td>\n",
       "      <td>21.61</td>\n",
       "      <td>554.36</td>\n",
       "      <td>2388.06</td>\n",
       "      <td>9046.19</td>\n",
       "      <td>1.3</td>\n",
       "      <td>...</td>\n",
       "      <td>521.66</td>\n",
       "      <td>2388.02</td>\n",
       "      <td>8138.62</td>\n",
       "      <td>8.4195</td>\n",
       "      <td>0.03</td>\n",
       "      <td>392</td>\n",
       "      <td>2388</td>\n",
       "      <td>100.0</td>\n",
       "      <td>39.06</td>\n",
       "      <td>23.4190</td>\n",
       "    </tr>\n",
       "    <tr>\n",
       "      <th>1</th>\n",
       "      <td>518.67</td>\n",
       "      <td>642.15</td>\n",
       "      <td>1591.82</td>\n",
       "      <td>1403.14</td>\n",
       "      <td>14.62</td>\n",
       "      <td>21.61</td>\n",
       "      <td>553.75</td>\n",
       "      <td>2388.04</td>\n",
       "      <td>9044.07</td>\n",
       "      <td>1.3</td>\n",
       "      <td>...</td>\n",
       "      <td>522.28</td>\n",
       "      <td>2388.07</td>\n",
       "      <td>8131.49</td>\n",
       "      <td>8.4318</td>\n",
       "      <td>0.03</td>\n",
       "      <td>392</td>\n",
       "      <td>2388</td>\n",
       "      <td>100.0</td>\n",
       "      <td>39.00</td>\n",
       "      <td>23.4236</td>\n",
       "    </tr>\n",
       "    <tr>\n",
       "      <th>2</th>\n",
       "      <td>518.67</td>\n",
       "      <td>642.35</td>\n",
       "      <td>1587.99</td>\n",
       "      <td>1404.20</td>\n",
       "      <td>14.62</td>\n",
       "      <td>21.61</td>\n",
       "      <td>554.26</td>\n",
       "      <td>2388.08</td>\n",
       "      <td>9052.94</td>\n",
       "      <td>1.3</td>\n",
       "      <td>...</td>\n",
       "      <td>522.42</td>\n",
       "      <td>2388.03</td>\n",
       "      <td>8133.23</td>\n",
       "      <td>8.4178</td>\n",
       "      <td>0.03</td>\n",
       "      <td>390</td>\n",
       "      <td>2388</td>\n",
       "      <td>100.0</td>\n",
       "      <td>38.95</td>\n",
       "      <td>23.3442</td>\n",
       "    </tr>\n",
       "    <tr>\n",
       "      <th>3</th>\n",
       "      <td>518.67</td>\n",
       "      <td>642.35</td>\n",
       "      <td>1582.79</td>\n",
       "      <td>1401.87</td>\n",
       "      <td>14.62</td>\n",
       "      <td>21.61</td>\n",
       "      <td>554.45</td>\n",
       "      <td>2388.11</td>\n",
       "      <td>9049.48</td>\n",
       "      <td>1.3</td>\n",
       "      <td>...</td>\n",
       "      <td>522.86</td>\n",
       "      <td>2388.08</td>\n",
       "      <td>8133.83</td>\n",
       "      <td>8.3682</td>\n",
       "      <td>0.03</td>\n",
       "      <td>392</td>\n",
       "      <td>2388</td>\n",
       "      <td>100.0</td>\n",
       "      <td>38.88</td>\n",
       "      <td>23.3739</td>\n",
       "    </tr>\n",
       "    <tr>\n",
       "      <th>4</th>\n",
       "      <td>518.67</td>\n",
       "      <td>642.37</td>\n",
       "      <td>1582.85</td>\n",
       "      <td>1406.22</td>\n",
       "      <td>14.62</td>\n",
       "      <td>21.61</td>\n",
       "      <td>554.00</td>\n",
       "      <td>2388.06</td>\n",
       "      <td>9055.15</td>\n",
       "      <td>1.3</td>\n",
       "      <td>...</td>\n",
       "      <td>522.19</td>\n",
       "      <td>2388.04</td>\n",
       "      <td>8133.80</td>\n",
       "      <td>8.4294</td>\n",
       "      <td>0.03</td>\n",
       "      <td>393</td>\n",
       "      <td>2388</td>\n",
       "      <td>100.0</td>\n",
       "      <td>38.90</td>\n",
       "      <td>23.4044</td>\n",
       "    </tr>\n",
       "  </tbody>\n",
       "</table>\n",
       "<p>5 rows × 21 columns</p>\n",
       "</div>"
      ],
      "text/plain": [
       "      s_1     s_2      s_3      s_4    s_5    s_6     s_7      s_8      s_9  \\\n",
       "0  518.67  641.82  1589.70  1400.60  14.62  21.61  554.36  2388.06  9046.19   \n",
       "1  518.67  642.15  1591.82  1403.14  14.62  21.61  553.75  2388.04  9044.07   \n",
       "2  518.67  642.35  1587.99  1404.20  14.62  21.61  554.26  2388.08  9052.94   \n",
       "3  518.67  642.35  1582.79  1401.87  14.62  21.61  554.45  2388.11  9049.48   \n",
       "4  518.67  642.37  1582.85  1406.22  14.62  21.61  554.00  2388.06  9055.15   \n",
       "\n",
       "   s_10  ...    s_12     s_13     s_14    s_15  s_16  s_17  s_18   s_19  \\\n",
       "0   1.3  ...  521.66  2388.02  8138.62  8.4195  0.03   392  2388  100.0   \n",
       "1   1.3  ...  522.28  2388.07  8131.49  8.4318  0.03   392  2388  100.0   \n",
       "2   1.3  ...  522.42  2388.03  8133.23  8.4178  0.03   390  2388  100.0   \n",
       "3   1.3  ...  522.86  2388.08  8133.83  8.3682  0.03   392  2388  100.0   \n",
       "4   1.3  ...  522.19  2388.04  8133.80  8.4294  0.03   393  2388  100.0   \n",
       "\n",
       "    s_20     s_21  \n",
       "0  39.06  23.4190  \n",
       "1  39.00  23.4236  \n",
       "2  38.95  23.3442  \n",
       "3  38.88  23.3739  \n",
       "4  38.90  23.4044  \n",
       "\n",
       "[5 rows x 21 columns]"
      ]
     },
     "execution_count": 522,
     "metadata": {},
     "output_type": "execute_result"
    }
   ],
   "source": [
    "x_train.head()"
   ]
  },
  {
   "cell_type": "code",
   "execution_count": 568,
   "id": "238ed466",
   "metadata": {},
   "outputs": [
    {
     "data": {
      "text/html": [
       "<div>\n",
       "<style scoped>\n",
       "    .dataframe tbody tr th:only-of-type {\n",
       "        vertical-align: middle;\n",
       "    }\n",
       "\n",
       "    .dataframe tbody tr th {\n",
       "        vertical-align: top;\n",
       "    }\n",
       "\n",
       "    .dataframe thead th {\n",
       "        text-align: right;\n",
       "    }\n",
       "</style>\n",
       "<table border=\"1\" class=\"dataframe\">\n",
       "  <thead>\n",
       "    <tr style=\"text-align: right;\">\n",
       "      <th></th>\n",
       "      <th>s_1</th>\n",
       "      <th>s_2</th>\n",
       "      <th>s_3</th>\n",
       "      <th>s_4</th>\n",
       "      <th>s_5</th>\n",
       "      <th>s_6</th>\n",
       "      <th>s_7</th>\n",
       "      <th>s_8</th>\n",
       "      <th>s_9</th>\n",
       "      <th>s_10</th>\n",
       "      <th>...</th>\n",
       "      <th>s_12</th>\n",
       "      <th>s_13</th>\n",
       "      <th>s_14</th>\n",
       "      <th>s_15</th>\n",
       "      <th>s_16</th>\n",
       "      <th>s_17</th>\n",
       "      <th>s_18</th>\n",
       "      <th>s_19</th>\n",
       "      <th>s_20</th>\n",
       "      <th>s_21</th>\n",
       "    </tr>\n",
       "  </thead>\n",
       "  <tbody>\n",
       "    <tr>\n",
       "      <th>0</th>\n",
       "      <td>518.67</td>\n",
       "      <td>642.58</td>\n",
       "      <td>1581.22</td>\n",
       "      <td>1398.91</td>\n",
       "      <td>14.62</td>\n",
       "      <td>21.61</td>\n",
       "      <td>554.42</td>\n",
       "      <td>2388.08</td>\n",
       "      <td>9056.40</td>\n",
       "      <td>1.3</td>\n",
       "      <td>...</td>\n",
       "      <td>521.79</td>\n",
       "      <td>2388.06</td>\n",
       "      <td>8130.11</td>\n",
       "      <td>8.4024</td>\n",
       "      <td>0.03</td>\n",
       "      <td>393</td>\n",
       "      <td>2388</td>\n",
       "      <td>100.0</td>\n",
       "      <td>38.81</td>\n",
       "      <td>23.3552</td>\n",
       "    </tr>\n",
       "    <tr>\n",
       "      <th>1</th>\n",
       "      <td>518.67</td>\n",
       "      <td>642.55</td>\n",
       "      <td>1586.59</td>\n",
       "      <td>1410.83</td>\n",
       "      <td>14.62</td>\n",
       "      <td>21.61</td>\n",
       "      <td>553.52</td>\n",
       "      <td>2388.10</td>\n",
       "      <td>9044.77</td>\n",
       "      <td>1.3</td>\n",
       "      <td>...</td>\n",
       "      <td>521.74</td>\n",
       "      <td>2388.09</td>\n",
       "      <td>8126.90</td>\n",
       "      <td>8.4505</td>\n",
       "      <td>0.03</td>\n",
       "      <td>391</td>\n",
       "      <td>2388</td>\n",
       "      <td>100.0</td>\n",
       "      <td>38.81</td>\n",
       "      <td>23.2618</td>\n",
       "    </tr>\n",
       "    <tr>\n",
       "      <th>2</th>\n",
       "      <td>518.67</td>\n",
       "      <td>642.88</td>\n",
       "      <td>1589.75</td>\n",
       "      <td>1418.89</td>\n",
       "      <td>14.62</td>\n",
       "      <td>21.61</td>\n",
       "      <td>552.59</td>\n",
       "      <td>2388.16</td>\n",
       "      <td>9049.26</td>\n",
       "      <td>1.3</td>\n",
       "      <td>...</td>\n",
       "      <td>520.83</td>\n",
       "      <td>2388.14</td>\n",
       "      <td>8131.46</td>\n",
       "      <td>8.4119</td>\n",
       "      <td>0.03</td>\n",
       "      <td>395</td>\n",
       "      <td>2388</td>\n",
       "      <td>100.0</td>\n",
       "      <td>38.93</td>\n",
       "      <td>23.2740</td>\n",
       "    </tr>\n",
       "    <tr>\n",
       "      <th>3</th>\n",
       "      <td>518.67</td>\n",
       "      <td>642.78</td>\n",
       "      <td>1594.53</td>\n",
       "      <td>1406.88</td>\n",
       "      <td>14.62</td>\n",
       "      <td>21.61</td>\n",
       "      <td>552.64</td>\n",
       "      <td>2388.13</td>\n",
       "      <td>9051.30</td>\n",
       "      <td>1.3</td>\n",
       "      <td>...</td>\n",
       "      <td>521.88</td>\n",
       "      <td>2388.11</td>\n",
       "      <td>8133.64</td>\n",
       "      <td>8.4634</td>\n",
       "      <td>0.03</td>\n",
       "      <td>395</td>\n",
       "      <td>2388</td>\n",
       "      <td>100.0</td>\n",
       "      <td>38.58</td>\n",
       "      <td>23.2581</td>\n",
       "    </tr>\n",
       "    <tr>\n",
       "      <th>4</th>\n",
       "      <td>518.67</td>\n",
       "      <td>642.27</td>\n",
       "      <td>1589.94</td>\n",
       "      <td>1419.36</td>\n",
       "      <td>14.62</td>\n",
       "      <td>21.61</td>\n",
       "      <td>553.29</td>\n",
       "      <td>2388.10</td>\n",
       "      <td>9053.99</td>\n",
       "      <td>1.3</td>\n",
       "      <td>...</td>\n",
       "      <td>521.00</td>\n",
       "      <td>2388.15</td>\n",
       "      <td>8125.74</td>\n",
       "      <td>8.4362</td>\n",
       "      <td>0.03</td>\n",
       "      <td>394</td>\n",
       "      <td>2388</td>\n",
       "      <td>100.0</td>\n",
       "      <td>38.75</td>\n",
       "      <td>23.4117</td>\n",
       "    </tr>\n",
       "  </tbody>\n",
       "</table>\n",
       "<p>5 rows × 21 columns</p>\n",
       "</div>"
      ],
      "text/plain": [
       "      s_1     s_2      s_3      s_4    s_5    s_6     s_7      s_8      s_9  \\\n",
       "0  518.67  642.58  1581.22  1398.91  14.62  21.61  554.42  2388.08  9056.40   \n",
       "1  518.67  642.55  1586.59  1410.83  14.62  21.61  553.52  2388.10  9044.77   \n",
       "2  518.67  642.88  1589.75  1418.89  14.62  21.61  552.59  2388.16  9049.26   \n",
       "3  518.67  642.78  1594.53  1406.88  14.62  21.61  552.64  2388.13  9051.30   \n",
       "4  518.67  642.27  1589.94  1419.36  14.62  21.61  553.29  2388.10  9053.99   \n",
       "\n",
       "   s_10  ...    s_12     s_13     s_14    s_15  s_16  s_17  s_18   s_19  \\\n",
       "0   1.3  ...  521.79  2388.06  8130.11  8.4024  0.03   393  2388  100.0   \n",
       "1   1.3  ...  521.74  2388.09  8126.90  8.4505  0.03   391  2388  100.0   \n",
       "2   1.3  ...  520.83  2388.14  8131.46  8.4119  0.03   395  2388  100.0   \n",
       "3   1.3  ...  521.88  2388.11  8133.64  8.4634  0.03   395  2388  100.0   \n",
       "4   1.3  ...  521.00  2388.15  8125.74  8.4362  0.03   394  2388  100.0   \n",
       "\n",
       "    s_20     s_21  \n",
       "0  38.81  23.3552  \n",
       "1  38.81  23.2618  \n",
       "2  38.93  23.2740  \n",
       "3  38.58  23.2581  \n",
       "4  38.75  23.4117  \n",
       "\n",
       "[5 rows x 21 columns]"
      ]
     },
     "execution_count": 568,
     "metadata": {},
     "output_type": "execute_result"
    }
   ],
   "source": [
    "#x_test tendra las variables que usamos en la predicción para poder testear (buscamos en que ciclo quedó cada unidad) \n",
    "#y_test es nuestra variable real\n",
    "x_test = test_copy.groupby('unit_nr').last().reset_index()\n",
    "x_test = x_test[sensor_names].copy()\n",
    "y_test = y_test_copy.copy()\n",
    "x_test.head()"
   ]
  },
  {
   "cell_type": "code",
   "execution_count": 569,
   "id": "495930e5",
   "metadata": {},
   "outputs": [],
   "source": [
    "#Generamos la regresion\n",
    "lm = LinearRegression()\n",
    "lm.fit(x_train,y_train)\n",
    "yhat_train = lm.predict(x_train)"
   ]
  },
  {
   "cell_type": "code",
   "execution_count": 570,
   "id": "456a87d6",
   "metadata": {},
   "outputs": [],
   "source": [
    "#Aplicamos regresion al test\n",
    "yhat_test = lm.predict(x_test)"
   ]
  },
  {
   "cell_type": "code",
   "execution_count": 571,
   "id": "54a754c0",
   "metadata": {
    "scrolled": true
   },
   "outputs": [
    {
     "name": "stdout",
     "output_type": "stream",
     "text": [
      "Testing Benchmark:\n",
      "rmse:  31.94977455636664\n",
      "R2:  0.408879457833612\n"
     ]
    }
   ],
   "source": [
    "#Evaluamos con los kpis mencionados \n",
    "print(\"Testing Benchmark:\")\n",
    "rmse(y_test,yhat_test)\n",
    "r2(y_test,yhat_test)"
   ]
  },
  {
   "cell_type": "markdown",
   "id": "4aaaecef",
   "metadata": {},
   "source": [
    "### Analizando sensores de baja o nula variabilidad"
   ]
  },
  {
   "cell_type": "markdown",
   "id": "44205d46",
   "metadata": {},
   "source": [
    "Que pasa si sacamos los sensores que presentan una baja o nula variabilidad (encontrados anteriormente). Recordemos:\n",
    "\n",
    "Los sensores 1,10,18 y 19 tienen desv. estándar 0 + min y max iguales --> Revisar \n",
    "\n",
    "Los sensores 5,6 y 16 tienen desv. estándar <> 0 pero min y max iguales --> Revisar\n",
    "\n",
    "Se podrían eliminar como variables ya que no generarían diferencia entre unidades"
   ]
  },
  {
   "cell_type": "code",
   "execution_count": 572,
   "id": "a3221560",
   "metadata": {},
   "outputs": [],
   "source": [
    "sacar_sensores = ['s_1','s_10','s_18','s_19','s_5','s_6','s_16']"
   ]
  },
  {
   "cell_type": "code",
   "execution_count": 573,
   "id": "e03caff8",
   "metadata": {},
   "outputs": [],
   "source": [
    "#Nuevas variables de training\n",
    "x_train = train_copy[sensor_names+['RUL']].copy()\n",
    "x_train = x_train.drop(sacar_sensores, axis=1)\n",
    "y_train = x_train.pop('RUL')\n",
    "\n",
    "#Actualizar variables para test\n",
    "x_test = test_copy.groupby('unit_nr').last().reset_index()\n",
    "x_test = x_test[sensor_names].copy()\n",
    "x_test = x_test.drop(sacar_sensores, axis=1)\n",
    "y_test = y_test_copy.copy()"
   ]
  },
  {
   "cell_type": "code",
   "execution_count": 574,
   "id": "cc743138",
   "metadata": {},
   "outputs": [
    {
     "name": "stdout",
     "output_type": "stream",
     "text": [
      "Testing Sacando Sensores con baja o nula variabilidad:\n",
      "rmse:  31.95263302773748\n",
      "R2:  0.40877368076590137\n"
     ]
    }
   ],
   "source": [
    "#Generamos la regresion\n",
    "lm = LinearRegression()\n",
    "lm.fit(x_train,y_train)\n",
    "yhat_train = lm.predict(x_train)\n",
    "\n",
    "#Aplicamos regresion al test\n",
    "yhat_test = lm.predict(x_test)\n",
    "\n",
    "#Evaluamos con los kpis mencionados \n",
    "print(\"Testing Sacando Sensores con baja o nula variabilidad:\")\n",
    "rmse(y_test,yhat_test)\n",
    "r2(y_test,yhat_test)"
   ]
  },
  {
   "cell_type": "markdown",
   "id": "da466b6e",
   "metadata": {},
   "source": [
    "Se observa que no cambia en nada la medida, quedandonos con un rmse de 32 aprox. y un r2 de 41%, esto nos muestra que efectivamente las variables que sacamos no proporcionaban ningun peso en la predicción. Por temas de optimización de data (tamaño df) se dejara sin los sensores anteriormente mencionados."
   ]
  },
  {
   "cell_type": "markdown",
   "id": "320297f1",
   "metadata": {},
   "source": [
    "### Normalizacion y modelamiento con SVR\n",
    "Vamos a normalizar las variables para poder dejarlas todas entre 0 y 1 con el objetivo de estandarizar en una misma escala los sensores:"
   ]
  },
  {
   "cell_type": "code",
   "execution_count": 575,
   "id": "591c561d",
   "metadata": {},
   "outputs": [],
   "source": [
    "norm = MinMaxScaler().fit(x_train)\n",
    "x_train_norm = norm.transform(x_train)\n",
    "x_test_norm = norm.transform(x_test)"
   ]
  },
  {
   "cell_type": "markdown",
   "id": "80adbc01",
   "metadata": {},
   "source": [
    "Para una regresión lineal la normalización no causa diferencia, pero esto nos sirve para hacer un nuevo modelamiento con SVR, esto debido a que SVR ve distancias y performa mejor al tener las variables normalizadas (todas entre 0 y 1) ya que podá separar las clases de mejor forma:"
   ]
  },
  {
   "cell_type": "code",
   "execution_count": 576,
   "id": "e61e9de8",
   "metadata": {
    "scrolled": true
   },
   "outputs": [
    {
     "name": "stdout",
     "output_type": "stream",
     "text": [
      "Testing con SVR con normalización:\n",
      "rmse:  26.225204844522718\n",
      "R2:  0.6017294130737041\n"
     ]
    }
   ],
   "source": [
    "#Generamos la SVR\n",
    "svr = SVR(kernel='linear')\n",
    "svr.fit(x_train_norm,y_train)\n",
    "yhat_train = svr.predict(x_train_norm)\n",
    "\n",
    "#Aplicamos SVR al test\n",
    "yhat_test = svr.predict(x_test_norm)\n",
    "\n",
    "#Evaluamos con los kpis mencionados \n",
    "print(\"Testing con SVR con normalización:\")\n",
    "rmse(y_test,yhat_test)\n",
    "r2(y_test,yhat_test)"
   ]
  },
  {
   "cell_type": "markdown",
   "id": "90cd9df9",
   "metadata": {},
   "source": [
    "Esto nos da por resultado un nuevo modelo que mejora Benchmark debido a que SVR cuenta con una mayor precisión al clasificar las clases (RUL), pasando de un rmse de 32 a 26 y un R2 de 0.4 a 0.6. Así que este será nuestro modelo base (benchmark)\n",
    "\n",
    "Aún así este modelo sigue siendo una base ya que no se ha aplicado ninguna discriminación de variables."
   ]
  },
  {
   "cell_type": "markdown",
   "id": "f694c730",
   "metadata": {},
   "source": [
    "###  Probabilidad de supervivencia en el tiempo\n",
    "Existe una metodología para estimar el tiempo hasta el fallo en una máquinaria, ésta consiste en utilizar el indicador de KaplanMeier, ya que nos dirá la probabilidad de \"supervivencia\" de las unidades a medida que avanzan los ciclos."
   ]
  },
  {
   "cell_type": "code",
   "execution_count": 16,
   "id": "51b436f0",
   "metadata": {
    "scrolled": false
   },
   "outputs": [
    {
     "data": {
      "image/png": "[encoded data removed]",
      "text/plain": [
       "<Figure size 720x504 with 1 Axes>"
      ]
     },
     "metadata": {
      "needs_background": "light"
     },
     "output_type": "display_data"
    }
   ],
   "source": [
    "train_copy['failure'] = 0\n",
    "idx_last_record = train_copy.reset_index().groupby(by='unit_nr')['index'].last()\n",
    "train_copy.at[idx_last_record, 'failure'] = 1\n",
    "\n",
    "train_prob = train_copy[['unit_nr','time_cycles','failure']].groupby('unit_nr').last()\n",
    "\n",
    "plt.figure(figsize=(10,7))\n",
    "survival = KaplanMeierFitter()\n",
    "survival.fit(train_prob['time_cycles'], train_prob['failure'])\n",
    "survival.plot()\n",
    "plt.ylabel(\"Probability of Survival\")\n",
    "plt.show()\n",
    "plt.close()"
   ]
  },
  {
   "cell_type": "markdown",
   "id": "a52763c1",
   "metadata": {},
   "source": [
    "El resultado es curioso, ya que uno esperaria que a medida que avanzan los ciclos la probabilidad de supervivencia empiece a disminuir de forma \"lineal\", pero vemos que hay una probabilidad de supervivencia del 100% hasta el ciclo 130. En otras palabras, si definimos la probabilidad de falla como la opuesta a la de supervivencia, podríamos decir que a hasta el ciclo 130 sabemos que la unidad no fallará y en el ciclo 131 empezaríamos a tener probabilidad de falla.\n",
    "\n",
    "Como el RUL es la definición opuesta de los ciclos que se llevan, podemos tomar este insight para decir que nuestra varible a predecir \"RUL\" si cuenta con al menos 130 ciclos aún de vida útil tendrá un comportamiento similar (ya que tienen misma probabilidad de supervivencia). \n",
    "\n",
    "Veremos si al definir que a partir de 130 todos los RUL son \"iguales\", para ver si esto cambia en algo nuestras predicciones:"
   ]
  },
  {
   "cell_type": "code",
   "execution_count": 31,
   "id": "50d26426",
   "metadata": {},
   "outputs": [],
   "source": [
    "#PREPARACIÓN DE DATA PREVIA:\n",
    "sacar_sensores = ['s_1','s_10','s_18','s_19','s_5','s_6','s_16']\n",
    "\n",
    "#Nuevas variables de training\n",
    "x_train = train_copy[sensor_names+['RUL']].copy()\n",
    "x_train = x_train.drop(sacar_sensores, axis=1)\n",
    "y_train = x_train.pop('RUL')\n",
    "\n",
    "#Actualizar variables para test\n",
    "x_test = test_copy.groupby('unit_nr').last().reset_index()\n",
    "x_test = x_test[sensor_names].copy()\n",
    "x_test = x_test.drop(sacar_sensores, axis=1)\n",
    "y_test = y_test_copy.copy()\n",
    "\n",
    "norm = MinMaxScaler().fit(x_train)\n",
    "x_train_norm = norm.transform(x_train)\n",
    "x_test_norm = norm.transform(x_test)"
   ]
  },
  {
   "cell_type": "code",
   "execution_count": 38,
   "id": "2465529e",
   "metadata": {},
   "outputs": [],
   "source": [
    "#Aplicamos el limite de RUL en base al supuesto obtenido con el indicador de KaplanMeier\n",
    "y_train_new = y_train.copy()\n",
    "y_train_new = y_train_new.clip(upper=130)"
   ]
  },
  {
   "cell_type": "code",
   "execution_count": 41,
   "id": "0aaeef17",
   "metadata": {},
   "outputs": [
    {
     "name": "stdout",
     "output_type": "stream",
     "text": [
      "Testing con SVR con normalización:\n",
      "rmse:  21.593108504025693\n",
      "R2:  0.7299956320577844\n"
     ]
    }
   ],
   "source": [
    "#Generamos la SVR\n",
    "svr = SVR(kernel='linear')\n",
    "svr.fit(x_train_norm,y_train_new)\n",
    "yhat_train = svr.predict(x_train_norm)\n",
    "\n",
    "#Aplicamos SVR al test\n",
    "yhat_test = svr.predict(x_test_norm)\n",
    "\n",
    "#Evaluamos con los kpis mencionados \n",
    "print(\"Testing con SVR con normalización:\")\n",
    "rmse(y_test,yhat_test)\n",
    "r2(y_test,yhat_test)"
   ]
  },
  {
   "cell_type": "markdown",
   "id": "abcbb8ba",
   "metadata": {},
   "source": [
    "El R2 sube de 0.6 a 0.73 y el rmse disminye de 26.2 21.6, por lo tanto, se tomará el supuesto de que a partir de un RUL de 130 las unidades tienen un mismo comportamiento."
   ]
  },
  {
   "cell_type": "markdown",
   "id": "e95e7742",
   "metadata": {},
   "source": [
    "### Combinación de variables"
   ]
  },
  {
   "cell_type": "markdown",
   "id": "eddb6a51",
   "metadata": {},
   "source": [
    "#### Correlación\n",
    "Se vera la correlación como input para ver que variables utilizar. "
   ]
  },
  {
   "cell_type": "code",
   "execution_count": 61,
   "id": "7d3dcc08",
   "metadata": {
    "scrolled": true
   },
   "outputs": [
    {
     "data": {
      "image/png": "[encoded data removed]",
      "text/plain": [
       "<Figure size 360x288 with 1 Axes>"
      ]
     },
     "metadata": {
      "needs_background": "light"
     },
     "output_type": "display_data"
    },
    {
     "data": {
      "image/png": "[encoded data removed]",
      "text/plain": [
       "<Figure size 360x288 with 1 Axes>"
      ]
     },
     "metadata": {
      "needs_background": "light"
     },
     "output_type": "display_data"
    },
    {
     "data": {
      "image/png": "[encoded data removed]",
      "text/plain": [
       "<Figure size 360x288 with 1 Axes>"
      ]
     },
     "metadata": {
      "needs_background": "light"
     },
     "output_type": "display_data"
    },
    {
     "data": {
      "image/png": "[encoded data removed]",
      "text/plain": [
       "<Figure size 360x288 with 1 Axes>"
      ]
     },
     "metadata": {
      "needs_background": "light"
     },
     "output_type": "display_data"
    },
    {
     "data": {
      "image/png": "[encoded data removed]",
      "text/plain": [
       "<Figure size 360x288 with 1 Axes>"
      ]
     },
     "metadata": {
      "needs_background": "light"
     },
     "output_type": "display_data"
    },
    {
     "data": {
      "image/png": "[encoded data removed]",
      "text/plain": [
       "<Figure size 360x288 with 1 Axes>"
      ]
     },
     "metadata": {
      "needs_background": "light"
     },
     "output_type": "display_data"
    },
    {
     "data": {
      "image/png": "[encoded data removed]",
      "text/plain": [
       "<Figure size 360x288 with 1 Axes>"
      ]
     },
     "metadata": {
      "needs_background": "light"
     },
     "output_type": "display_data"
    },
    {
     "data": {
      "image/png": "[encoded data removed]",
      "text/plain": [
       "<Figure size 360x288 with 1 Axes>"
      ]
     },
     "metadata": {
      "needs_background": "light"
     },
     "output_type": "display_data"
    },
    {
     "data": {
      "image/png": "[encoded data removed]",
      "text/plain": [
       "<Figure size 360x288 with 1 Axes>"
      ]
     },
     "metadata": {
      "needs_background": "light"
     },
     "output_type": "display_data"
    },
    {
     "data": {
      "image/png": "[encoded data removed]",
      "text/plain": [
       "<Figure size 360x288 with 1 Axes>"
      ]
     },
     "metadata": {
      "needs_background": "light"
     },
     "output_type": "display_data"
    },
    {
     "data": {
      "image/png": "[encoded data removed]",
      "text/plain": [
       "<Figure size 360x288 with 1 Axes>"
      ]
     },
     "metadata": {
      "needs_background": "light"
     },
     "output_type": "display_data"
    },
    {
     "data": {
      "image/png": "[encoded data removed]",
      "text/plain": [
       "<Figure size 360x288 with 1 Axes>"
      ]
     },
     "metadata": {
      "needs_background": "light"
     },
     "output_type": "display_data"
    },
    {
     "data": {
      "image/png": "[encoded data removed]",
      "text/plain": [
       "<Figure size 360x288 with 1 Axes>"
      ]
     },
     "metadata": {
      "needs_background": "light"
     },
     "output_type": "display_data"
    },
    {
     "data": {
      "image/png": "[encoded data removed]",
      "text/plain": [
       "<Figure size 360x288 with 1 Axes>"
      ]
     },
     "metadata": {
      "needs_background": "light"
     },
     "output_type": "display_data"
    }
   ],
   "source": [
    "train_s_hist = train_copy[sensor_names].copy()\n",
    "train_s_hist = train_s_hist.drop(sacar_sensores, axis=1)\n",
    "\n",
    "for i in train_s_hist.columns:\n",
    "    train_s_hist_graph = train_s_hist[i]\n",
    "    train_s_hist_graph.hist(bins=5, figsize=(5,4))\n",
    "    plt.xlabel(i)\n",
    "    plt.ylabel('frequency')\n",
    "    plt.show()"
   ]
  },
  {
   "cell_type": "code",
   "execution_count": 45,
   "id": "0ee60525",
   "metadata": {
    "scrolled": false
   },
   "outputs": [],
   "source": [
    "train_copy_v2 = train_copy.copy()\n",
    "train_copy_v2['RUL'] = train_copy_v2['RUL'].clip(upper=130)\n",
    "train_corr = train_copy_v2[sensor_names+['RUL']].copy()\n",
    "train_corr = train_corr.drop(sacar_sensores, axis=1)\n",
    "corr = train_corr.corr()"
   ]
  },
  {
   "cell_type": "code",
   "execution_count": 46,
   "id": "f2e1b77e",
   "metadata": {
    "scrolled": false
   },
   "outputs": [
    {
     "data": {
      "text/plain": [
       "<AxesSubplot:>"
      ]
     },
     "execution_count": 46,
     "metadata": {},
     "output_type": "execute_result"
    },
    {
     "data": {
      "image/png": "[encoded data removed]",
      "text/plain": [
       "<Figure size 720x720 with 2 Axes>"
      ]
     },
     "metadata": {
      "needs_background": "light"
     },
     "output_type": "display_data"
    }
   ],
   "source": [
    "fig, ax = plt.subplots(figsize=(10,10))   \n",
    "sns.heatmap(corr, annot = True, vmin=-1, vmax=1, center= 0, cmap= 'coolwarm', ax=ax)"
   ]
  },
  {
   "cell_type": "code",
   "execution_count": 47,
   "id": "51803653",
   "metadata": {},
   "outputs": [],
   "source": [
    "new_variables = []\n",
    "for i in corr[(corr['RUL']>=0.5) | (corr['RUL']<=-0.5)]['RUL'].index:\n",
    "    new_variables += [i]\n",
    "new_variables.remove('RUL')"
   ]
  },
  {
   "cell_type": "code",
   "execution_count": 48,
   "id": "2c65c729",
   "metadata": {},
   "outputs": [],
   "source": [
    "#Nuevas variables de training\n",
    "x_train = train_copy_v2[new_variables+['RUL']].copy()\n",
    "y_train = x_train.pop('RUL')\n",
    "\n",
    "#Actualizar variables para test\n",
    "x_test = test_copy.groupby('unit_nr').last().reset_index()\n",
    "x_test = x_test[new_variables].copy()\n",
    "y_test = y_test_copy.copy()"
   ]
  },
  {
   "cell_type": "code",
   "execution_count": 49,
   "id": "6856a2d7",
   "metadata": {},
   "outputs": [],
   "source": [
    "norm = MinMaxScaler().fit(x_train)\n",
    "x_train_norm = norm.transform(x_train)\n",
    "x_test_norm = norm.transform(x_test)"
   ]
  },
  {
   "cell_type": "code",
   "execution_count": 50,
   "id": "b3802c09",
   "metadata": {},
   "outputs": [
    {
     "name": "stdout",
     "output_type": "stream",
     "text": [
      "Testing con SVR con normalización:\n",
      "rmse:  22.718262641094405\n",
      "R2:  0.701124243874728\n"
     ]
    }
   ],
   "source": [
    "#Generamos la SVR\n",
    "svr = SVR(kernel='linear')\n",
    "svr.fit(x_train_norm,y_train)\n",
    "yhat_train = svr.predict(x_train_norm)\n",
    "\n",
    "#Aplicamos SVR al test\n",
    "yhat_test = svr.predict(x_test_norm)\n",
    "\n",
    "#Evaluamos con los kpis mencionados \n",
    "print(\"Testing con SVR con normalización:\")\n",
    "rmse(y_test,yhat_test)\n",
    "r2(y_test,yhat_test)"
   ]
  },
  {
   "cell_type": "markdown",
   "id": "dbd57a67",
   "metadata": {},
   "source": [
    "El modelo no mejora al usar correlaciones así que se hará feature engineering."
   ]
  },
  {
   "cell_type": "markdown",
   "id": "bd2b1a4c",
   "metadata": {},
   "source": [
    "#### Feature engineering\n",
    "Se utilizarán combinaciones de polinomios para ver que variables utilizar"
   ]
  },
  {
   "cell_type": "code",
   "execution_count": 10,
   "id": "04515eea",
   "metadata": {},
   "outputs": [],
   "source": [
    "sacar_sensores = ['s_1','s_10','s_18','s_19','s_5','s_6','s_16']\n",
    "train_copy_v2 = train_copy.copy()\n",
    "train_copy_v2['RUL'] = train_copy_v2['RUL'].clip(upper=130)\n",
    "#Nuevas variables de training\n",
    "x_train = train_copy_v2[sensor_names+['RUL']].copy()\n",
    "x_train = x_train.drop(sacar_sensores, axis=1)\n",
    "y_train = x_train.pop('RUL')\n",
    "\n",
    "#Actualizar variables para test\n",
    "x_test = test_copy.groupby('unit_nr').last().reset_index()\n",
    "x_test = x_test[sensor_names].copy()\n",
    "x_test = x_test.drop(sacar_sensores, axis=1)\n",
    "y_test = y_test_copy.copy()\n",
    "\n",
    "norm = MinMaxScaler().fit(x_train)\n",
    "x_train_norm = norm.transform(x_train)\n",
    "x_test_norm = norm.transform(x_test)"
   ]
  },
  {
   "cell_type": "code",
   "execution_count": 11,
   "id": "be4db520",
   "metadata": {},
   "outputs": [],
   "source": [
    "pf = PolynomialFeatures(2)\n",
    "x_train_pf = pf.fit_transform(x_train_norm)\n",
    "x_test_pf = pf.fit_transform(x_test_norm)"
   ]
  },
  {
   "cell_type": "code",
   "execution_count": 12,
   "id": "db743911",
   "metadata": {},
   "outputs": [
    {
     "name": "stdout",
     "output_type": "stream",
     "text": [
      "Columnas previas:\n",
      "Index(['s_2', 's_3', 's_4', 's_7', 's_8', 's_9', 's_11', 's_12', 's_13',\n",
      "       's_14', 's_15', 's_17', 's_20', 's_21'],\n",
      "      dtype='object')\n",
      "Columnas post:\n",
      "['x0' 'x1' 'x2' 'x3' 'x5' 'x6' 'x7' 'x9' 'x10' 'x11' 'x12' 'x13' 'x0 x9'\n",
      " 'x2 x5' 'x2 x8' 'x2 x9' 'x3 x5' 'x3 x8' 'x3 x9' 'x4^2' 'x4 x6' 'x4 x7'\n",
      " 'x4 x8' 'x5^2' 'x5 x6' 'x5 x7' 'x5 x9' 'x5 x12' 'x5 x13' 'x6^2' 'x6 x8'\n",
      " 'x6 x9' 'x7 x8' 'x7 x9' 'x8^2' 'x9^2' 'x9 x12' 'x9 x13']\n"
     ]
    }
   ],
   "source": [
    "#Generamos la SVR + Feature Engineering (todas las combinaciones de polinomios)\n",
    "svr = SVR(kernel='linear')\n",
    "svr.fit(x_train_pf,y_train)\n",
    "\n",
    "#Se hace la seleccion de variables donde utilizamos la media como parametro de importancia\n",
    "fe_var = SelectFromModel(svr, threshold='mean',prefit=True)\n",
    "fe_var.get_support()\n",
    "fe_var_final = pf.get_feature_names()\n",
    "\n",
    "print(\"Columnas previas:\")\n",
    "print(x_train.columns)\n",
    "print(\"Columnas post:\")\n",
    "print(np.array(fe_var_final)[fe_var.get_support()])"
   ]
  },
  {
   "cell_type": "code",
   "execution_count": 13,
   "id": "32e56df0",
   "metadata": {},
   "outputs": [
    {
     "name": "stdout",
     "output_type": "stream",
     "text": [
      "Testing con SVR con selección de variables con Feature Engineering:\n",
      "rmse:  20.75215965918884\n",
      "R2:  0.7506168789348862\n"
     ]
    }
   ],
   "source": [
    "#Generamos la SVR + Feature Engineering (todas las combinaciones de polinomios)\n",
    "svr = SVR(kernel='linear')\n",
    "x_train_pf_fil = x_train_pf[:,fe_var.get_support()]\n",
    "svr.fit(x_train_pf_fil,y_train)\n",
    "yhat_train = svr.predict(x_train_pf_fil)\n",
    "\n",
    "#Aplicamos SVR al test\n",
    "x_test_pf_fil = x_test_pf[:,fe_var.get_support()]\n",
    "yhat_test = svr.predict(x_test_pf_fil)\n",
    "\n",
    "#Evaluamos con los kpis mencionados \n",
    "print(\"Testing con SVR con selección de variables con Feature Engineering:\")\n",
    "rmse(y_test,yhat_test)\n",
    "r2(y_test,yhat_test)"
   ]
  },
  {
   "cell_type": "code",
   "execution_count": 21,
   "id": "66ea9051",
   "metadata": {},
   "outputs": [
    {
     "data": {
      "text/plain": [
       "array([129.67479242, 109.39582595,  75.88788649,  87.83546349,\n",
       "        98.53810205, 101.54916038, 101.89296047,  86.70859101,\n",
       "        96.20917429,  98.46420291,  88.07215144,  87.95687177,\n",
       "        86.30615275, 103.93978964, 128.50966828, 110.27066018,\n",
       "        62.72655422,  70.62318494, 103.52848996,  27.98282418,\n",
       "        81.72027831, 118.59814097, 128.05746903,  24.95826952,\n",
       "       119.22677436, 106.39943251, 113.47642842,  94.3213087 ,\n",
       "        98.33337253,  86.87248751,  19.97859494,  68.3119616 ,\n",
       "        91.81289244,   3.20754491,   3.37843173,  36.42339111,\n",
       "        76.60022898,  57.10742851, 119.29193555,  40.20118085,\n",
       "        84.16863303,  31.81872267,  72.86500296, 102.5809313 ,\n",
       "        72.1224875 ,  60.46698823, 110.98020754, 101.98859181,\n",
       "        23.3446385 , 103.57486772, 104.32202698,  37.87772611,\n",
       "        42.66228653, 126.75669913, 116.82493944,  32.58257815,\n",
       "        95.12495915,  60.32710672, 129.74791934, 101.52359111,\n",
       "        51.08901143,  67.71767496,  74.53657995,  61.02014953,\n",
       "       125.02349606,  20.16856891, 118.86152408,  15.45949281,\n",
       "       115.88954647,  95.88642369, 110.26069561,  80.52606545,\n",
       "       131.02707649,  89.84684148, 123.79446396,  12.44958214,\n",
       "        52.77707138, 134.47033515, 105.84046323,  82.02958675,\n",
       "         5.32363459,   9.56950669, 106.9302995 ,  69.65757932,\n",
       "       107.33111219,  87.50293882, 119.82663823, 115.54550621,\n",
       "        98.68728663,  44.35619883,  47.62694197,  32.88010047,\n",
       "        56.34590484,  65.25597963, 121.32111212, 123.60393547,\n",
       "        85.22505458,  82.53945485, 120.09293992,  14.23675171])"
      ]
     },
     "execution_count": 21,
     "metadata": {},
     "output_type": "execute_result"
    }
   ],
   "source": [
    "yhat_test"
   ]
  },
  {
   "cell_type": "markdown",
   "id": "0d102440",
   "metadata": {},
   "source": [
    "El modelo mejora alcanzando un rmse de 21 aprox. y R2 de 0.75 siendo el que se utilizará para la predicción."
   ]
  },
  {
   "cell_type": "code",
   "execution_count": 24,
   "id": "c1f1669d",
   "metadata": {},
   "outputs": [
    {
     "data": {
      "text/html": [
       "<div>\n",
       "<style scoped>\n",
       "    .dataframe tbody tr th:only-of-type {\n",
       "        vertical-align: middle;\n",
       "    }\n",
       "\n",
       "    .dataframe tbody tr th {\n",
       "        vertical-align: top;\n",
       "    }\n",
       "\n",
       "    .dataframe thead th {\n",
       "        text-align: right;\n",
       "    }\n",
       "</style>\n",
       "<table border=\"1\" class=\"dataframe\">\n",
       "  <thead>\n",
       "    <tr style=\"text-align: right;\">\n",
       "      <th></th>\n",
       "      <th>unit_nr</th>\n",
       "      <th>time_cycles</th>\n",
       "      <th>prediction_RUL</th>\n",
       "    </tr>\n",
       "  </thead>\n",
       "  <tbody>\n",
       "    <tr>\n",
       "      <th>0</th>\n",
       "      <td>1</td>\n",
       "      <td>31</td>\n",
       "      <td>129.674792</td>\n",
       "    </tr>\n",
       "    <tr>\n",
       "      <th>1</th>\n",
       "      <td>2</td>\n",
       "      <td>49</td>\n",
       "      <td>109.395826</td>\n",
       "    </tr>\n",
       "    <tr>\n",
       "      <th>2</th>\n",
       "      <td>3</td>\n",
       "      <td>126</td>\n",
       "      <td>75.887886</td>\n",
       "    </tr>\n",
       "    <tr>\n",
       "      <th>3</th>\n",
       "      <td>4</td>\n",
       "      <td>106</td>\n",
       "      <td>87.835463</td>\n",
       "    </tr>\n",
       "    <tr>\n",
       "      <th>4</th>\n",
       "      <td>5</td>\n",
       "      <td>98</td>\n",
       "      <td>98.538102</td>\n",
       "    </tr>\n",
       "    <tr>\n",
       "      <th>...</th>\n",
       "      <td>...</td>\n",
       "      <td>...</td>\n",
       "      <td>...</td>\n",
       "    </tr>\n",
       "    <tr>\n",
       "      <th>95</th>\n",
       "      <td>96</td>\n",
       "      <td>97</td>\n",
       "      <td>123.603935</td>\n",
       "    </tr>\n",
       "    <tr>\n",
       "      <th>96</th>\n",
       "      <td>97</td>\n",
       "      <td>134</td>\n",
       "      <td>85.225055</td>\n",
       "    </tr>\n",
       "    <tr>\n",
       "      <th>97</th>\n",
       "      <td>98</td>\n",
       "      <td>121</td>\n",
       "      <td>82.539455</td>\n",
       "    </tr>\n",
       "    <tr>\n",
       "      <th>98</th>\n",
       "      <td>99</td>\n",
       "      <td>97</td>\n",
       "      <td>120.092940</td>\n",
       "    </tr>\n",
       "    <tr>\n",
       "      <th>99</th>\n",
       "      <td>100</td>\n",
       "      <td>198</td>\n",
       "      <td>14.236752</td>\n",
       "    </tr>\n",
       "  </tbody>\n",
       "</table>\n",
       "<p>100 rows × 3 columns</p>\n",
       "</div>"
      ],
      "text/plain": [
       "    unit_nr  time_cycles  prediction_RUL\n",
       "0         1           31      129.674792\n",
       "1         2           49      109.395826\n",
       "2         3          126       75.887886\n",
       "3         4          106       87.835463\n",
       "4         5           98       98.538102\n",
       "..      ...          ...             ...\n",
       "95       96           97      123.603935\n",
       "96       97          134       85.225055\n",
       "97       98          121       82.539455\n",
       "98       99           97      120.092940\n",
       "99      100          198       14.236752\n",
       "\n",
       "[100 rows x 3 columns]"
      ]
     },
     "execution_count": 24,
     "metadata": {},
     "output_type": "execute_result"
    }
   ],
   "source": [
    "resultados = pd.DataFrame()\n",
    "resultados['unit_nr'] = test_copy.unit_nr.unique()\n",
    "resultados['time_cycles'] = test_copy.groupby('unit_nr').last().reset_index()['time_cycles']\n",
    "resultados['prediction_RUL'] = pd.DataFrame(yhat_test)\n",
    "resultados"
   ]
  },
  {
   "cell_type": "markdown",
   "id": "20231150",
   "metadata": {},
   "source": [
    "Si tomamos la data de train como la situación actual que buscásemos predecir, se podrían generar priorizaciones:"
   ]
  },
  {
   "cell_type": "code",
   "execution_count": 17,
   "id": "7f4f4099",
   "metadata": {},
   "outputs": [
    {
     "data": {
      "image/png": "[encoded data removed]",
      "text/plain": [
       "<Figure size 720x432 with 1 Axes>"
      ]
     },
     "metadata": {
      "needs_background": "light"
     },
     "output_type": "display_data"
    }
   ],
   "source": [
    "resultados_hist = resultados[['unit_nr','time_cycles']].groupby('unit_nr').max().reset_index()\n",
    "resultados_hist['time_cycles'].hist(bins=5, figsize=(10,6))\n",
    "plt.xlabel('time_cycles')\n",
    "plt.ylabel('frequency')\n",
    "plt.show()"
   ]
  },
  {
   "cell_type": "code",
   "execution_count": 31,
   "id": "8e70f1cc",
   "metadata": {
    "scrolled": false
   },
   "outputs": [
    {
     "data": {
      "image/png": "[encoded data removed]",
      "text/plain": [
       "<Figure size 720x432 with 1 Axes>"
      ]
     },
     "metadata": {
      "needs_background": "light"
     },
     "output_type": "display_data"
    }
   ],
   "source": [
    "resultados_hist = resultados[['unit_nr','prediction_RUL']].groupby('unit_nr').max().reset_index()\n",
    "resultados_hist['prediction_RUL'].hist(bins=5, figsize=(10,6), color='#F20253')\n",
    "plt.xlabel('prediction_RUL')\n",
    "plt.ylabel('frequency')\n",
    "plt.show()"
   ]
  },
  {
   "cell_type": "code",
   "execution_count": 25,
   "id": "2832d4e9",
   "metadata": {},
   "outputs": [
    {
     "data": {
      "text/html": [
       "<div>\n",
       "<style scoped>\n",
       "    .dataframe tbody tr th:only-of-type {\n",
       "        vertical-align: middle;\n",
       "    }\n",
       "\n",
       "    .dataframe tbody tr th {\n",
       "        vertical-align: top;\n",
       "    }\n",
       "\n",
       "    .dataframe thead th {\n",
       "        text-align: right;\n",
       "    }\n",
       "</style>\n",
       "<table border=\"1\" class=\"dataframe\">\n",
       "  <thead>\n",
       "    <tr style=\"text-align: right;\">\n",
       "      <th></th>\n",
       "      <th>unit_nr</th>\n",
       "      <th>time_cycles</th>\n",
       "      <th>prediction_RUL</th>\n",
       "    </tr>\n",
       "  </thead>\n",
       "  <tbody>\n",
       "    <tr>\n",
       "      <th>33</th>\n",
       "      <td>34</td>\n",
       "      <td>203</td>\n",
       "      <td>3.207545</td>\n",
       "    </tr>\n",
       "    <tr>\n",
       "      <th>34</th>\n",
       "      <td>35</td>\n",
       "      <td>198</td>\n",
       "      <td>3.378432</td>\n",
       "    </tr>\n",
       "    <tr>\n",
       "      <th>80</th>\n",
       "      <td>81</td>\n",
       "      <td>213</td>\n",
       "      <td>5.323635</td>\n",
       "    </tr>\n",
       "    <tr>\n",
       "      <th>81</th>\n",
       "      <td>82</td>\n",
       "      <td>162</td>\n",
       "      <td>9.569507</td>\n",
       "    </tr>\n",
       "    <tr>\n",
       "      <th>75</th>\n",
       "      <td>76</td>\n",
       "      <td>205</td>\n",
       "      <td>12.449582</td>\n",
       "    </tr>\n",
       "    <tr>\n",
       "      <th>...</th>\n",
       "      <td>...</td>\n",
       "      <td>...</td>\n",
       "      <td>...</td>\n",
       "    </tr>\n",
       "    <tr>\n",
       "      <th>14</th>\n",
       "      <td>15</td>\n",
       "      <td>76</td>\n",
       "      <td>128.509668</td>\n",
       "    </tr>\n",
       "    <tr>\n",
       "      <th>0</th>\n",
       "      <td>1</td>\n",
       "      <td>31</td>\n",
       "      <td>129.674792</td>\n",
       "    </tr>\n",
       "    <tr>\n",
       "      <th>58</th>\n",
       "      <td>59</td>\n",
       "      <td>94</td>\n",
       "      <td>129.747919</td>\n",
       "    </tr>\n",
       "    <tr>\n",
       "      <th>72</th>\n",
       "      <td>73</td>\n",
       "      <td>112</td>\n",
       "      <td>131.027076</td>\n",
       "    </tr>\n",
       "    <tr>\n",
       "      <th>77</th>\n",
       "      <td>78</td>\n",
       "      <td>72</td>\n",
       "      <td>134.470335</td>\n",
       "    </tr>\n",
       "  </tbody>\n",
       "</table>\n",
       "<p>100 rows × 3 columns</p>\n",
       "</div>"
      ],
      "text/plain": [
       "    unit_nr  time_cycles  prediction_RUL\n",
       "33       34          203        3.207545\n",
       "34       35          198        3.378432\n",
       "80       81          213        5.323635\n",
       "81       82          162        9.569507\n",
       "75       76          205       12.449582\n",
       "..      ...          ...             ...\n",
       "14       15           76      128.509668\n",
       "0         1           31      129.674792\n",
       "58       59           94      129.747919\n",
       "72       73          112      131.027076\n",
       "77       78           72      134.470335\n",
       "\n",
       "[100 rows x 3 columns]"
      ]
     },
     "execution_count": 25,
     "metadata": {},
     "output_type": "execute_result"
    }
   ],
   "source": [
    "resultados.sort_values(by='prediction_RUL', ascending=True )"
   ]
  }
 ],
 "metadata": {
  "kernelspec": {
   "display_name": "Python 3",
   "language": "python",
   "name": "python3"
  },
  "language_info": {
   "codemirror_mode": {
    "name": "ipython",
    "version": 3
   },
   "file_extension": ".py",
   "mimetype": "text/x-python",
   "name": "python",
   "nbconvert_exporter": "python",
   "pygments_lexer": "ipython3",
   "version": "3.9.4"
  }
 },
 "nbformat": 4,
 "nbformat_minor": 5
}
